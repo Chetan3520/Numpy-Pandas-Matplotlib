{
 "cells": [
  {
   "cell_type": "code",
   "execution_count": 1,
   "id": "933896f8",
   "metadata": {},
   "outputs": [
    {
     "name": "stdout",
     "output_type": "stream",
     "text": [
      "Python version is: 3.8.8\n"
     ]
    }
   ],
   "source": [
    "\n",
    "import platform\n",
    "print(\"Python version is:\",platform.python_version())\n"
   ]
  },
  {
   "cell_type": "code",
   "execution_count": 2,
   "id": "e9136fd6",
   "metadata": {},
   "outputs": [
    {
     "name": "stdout",
     "output_type": "stream",
     "text": [
      "Numpy version is: 1.20.1\n"
     ]
    }
   ],
   "source": [
    "import numpy as np\n",
    "print(\"Numpy version is:\",np.__version__)\n",
    "#press tab key so that we can access  the list of modules beautifully."
   ]
  },
  {
   "cell_type": "markdown",
   "id": "087f9b52",
   "metadata": {},
   "source": [
    "# Numpy Data types"
   ]
  },
  {
   "cell_type": "code",
   "execution_count": 3,
   "id": "a5a0b14d",
   "metadata": {},
   "outputs": [
    {
     "data": {
      "text/html": [
       "<div>\n",
       "<style scoped>\n",
       "    .dataframe tbody tr th:only-of-type {\n",
       "        vertical-align: middle;\n",
       "    }\n",
       "\n",
       "    .dataframe tbody tr th {\n",
       "        vertical-align: top;\n",
       "    }\n",
       "\n",
       "    .dataframe thead th {\n",
       "        text-align: right;\n",
       "    }\n",
       "</style>\n",
       "<table border=\"1\" class=\"dataframe\">\n",
       "  <thead>\n",
       "    <tr style=\"text-align: right;\">\n",
       "      <th></th>\n",
       "      <th>Type</th>\n",
       "      <th>Type Code</th>\n",
       "    </tr>\n",
       "  </thead>\n",
       "  <tbody>\n",
       "    <tr>\n",
       "      <th>0</th>\n",
       "      <td>int8</td>\n",
       "      <td>i1</td>\n",
       "    </tr>\n",
       "    <tr>\n",
       "      <th>1</th>\n",
       "      <td>uint8</td>\n",
       "      <td>u1</td>\n",
       "    </tr>\n",
       "    <tr>\n",
       "      <th>2</th>\n",
       "      <td>int16</td>\n",
       "      <td>i2</td>\n",
       "    </tr>\n",
       "    <tr>\n",
       "      <th>3</th>\n",
       "      <td>uint16</td>\n",
       "      <td>u2</td>\n",
       "    </tr>\n",
       "    <tr>\n",
       "      <th>4</th>\n",
       "      <td>int32</td>\n",
       "      <td>i4</td>\n",
       "    </tr>\n",
       "    <tr>\n",
       "      <th>5</th>\n",
       "      <td>uint32</td>\n",
       "      <td>u4</td>\n",
       "    </tr>\n",
       "    <tr>\n",
       "      <th>6</th>\n",
       "      <td>int64</td>\n",
       "      <td>i8</td>\n",
       "    </tr>\n",
       "    <tr>\n",
       "      <th>7</th>\n",
       "      <td>uint64</td>\n",
       "      <td>u8</td>\n",
       "    </tr>\n",
       "    <tr>\n",
       "      <th>8</th>\n",
       "      <td>float16</td>\n",
       "      <td>f2</td>\n",
       "    </tr>\n",
       "    <tr>\n",
       "      <th>9</th>\n",
       "      <td>float32</td>\n",
       "      <td>f4 or f</td>\n",
       "    </tr>\n",
       "    <tr>\n",
       "      <th>10</th>\n",
       "      <td>float64</td>\n",
       "      <td>f8 or d</td>\n",
       "    </tr>\n",
       "    <tr>\n",
       "      <th>11</th>\n",
       "      <td>float128</td>\n",
       "      <td>f16 or g</td>\n",
       "    </tr>\n",
       "    <tr>\n",
       "      <th>12</th>\n",
       "      <td>complex64</td>\n",
       "      <td>c8</td>\n",
       "    </tr>\n",
       "    <tr>\n",
       "      <th>13</th>\n",
       "      <td>complex128</td>\n",
       "      <td>c16</td>\n",
       "    </tr>\n",
       "    <tr>\n",
       "      <th>14</th>\n",
       "      <td>bool</td>\n",
       "      <td></td>\n",
       "    </tr>\n",
       "    <tr>\n",
       "      <th>15</th>\n",
       "      <td>object</td>\n",
       "      <td>O</td>\n",
       "    </tr>\n",
       "    <tr>\n",
       "      <th>16</th>\n",
       "      <td>string_</td>\n",
       "      <td>S</td>\n",
       "    </tr>\n",
       "    <tr>\n",
       "      <th>17</th>\n",
       "      <td>unicode_</td>\n",
       "      <td>U</td>\n",
       "    </tr>\n",
       "  </tbody>\n",
       "</table>\n",
       "</div>"
      ],
      "text/plain": [
       "          Type Type Code\n",
       "0         int8        i1\n",
       "1        uint8        u1\n",
       "2        int16        i2\n",
       "3       uint16        u2\n",
       "4        int32        i4\n",
       "5       uint32        u4\n",
       "6        int64        i8\n",
       "7       uint64        u8\n",
       "8      float16        f2\n",
       "9      float32   f4 or f\n",
       "10     float64   f8 or d\n",
       "11    float128  f16 or g\n",
       "12   complex64        c8\n",
       "13  complex128       c16\n",
       "14        bool          \n",
       "15      object         O\n",
       "16     string_         S\n",
       "17    unicode_         U"
      ]
     },
     "execution_count": 3,
     "metadata": {},
     "output_type": "execute_result"
    }
   ],
   "source": [
    "import pandas as pd\n",
    "dtypes = pd.DataFrame({'Type': ['int8', 'uint8', 'int16', 'uint16', 'int32', 'uint32', 'int64', 'uint64', 'float16', 'float32', 'float64', 'float128', 'complex64', 'complex128', 'bool', 'object', 'string_', 'unicode_'],\n",
    "        'Type Code': ['i1', 'u1', 'i2', 'u2', 'i4', 'u4', 'i8', 'u8', 'f2', 'f4 or f', 'f8 or d', 'f16 or g', 'c8', 'c16', '', 'O', 'S', 'U']})\n",
    "dtypes\n"
   ]
  },
  {
   "cell_type": "markdown",
   "id": "64848fe8",
   "metadata": {},
   "source": [
    "# Create a Numpy array with specified Data type"
   ]
  },
  {
   "cell_type": "code",
   "execution_count": 4,
   "id": "f6cd1f91",
   "metadata": {},
   "outputs": [
    {
     "name": "stdout",
     "output_type": "stream",
     "text": [
      "Datatype of the array [12  2  3  4] is int32\n"
     ]
    }
   ],
   "source": [
    "import numpy as np\n",
    "arr=np.array([12.80,2,3,4.5],dtype='int')\n",
    "print('Datatype of the array',arr,'is',arr.dtype)"
   ]
  },
  {
   "cell_type": "code",
   "execution_count": 5,
   "id": "9929e762",
   "metadata": {},
   "outputs": [
    {
     "name": "stdout",
     "output_type": "stream",
     "text": [
      "Datatype of the array [12.8  2.   3.   4.5] is float64\n"
     ]
    }
   ],
   "source": [
    "arr=np.array([12.80,2,3,4.5],dtype=\"float\")\n",
    "print(\"Datatype of the array\",arr,\"is\",arr.dtype)"
   ]
  },
  {
   "cell_type": "code",
   "execution_count": 6,
   "id": "9aef3704",
   "metadata": {},
   "outputs": [
    {
     "name": "stdout",
     "output_type": "stream",
     "text": [
      "Datatype of the array  [2.+3.j 6.-8.j] is complex128\n"
     ]
    }
   ],
   "source": [
    "arr=np.array([2+3j,6-8j],dtype='complex')\n",
    "print(\"Datatype of the array \",arr,\"is\",arr.dtype)"
   ]
  },
  {
   "cell_type": "code",
   "execution_count": 7,
   "id": "838594b3",
   "metadata": {},
   "outputs": [
    {
     "name": "stdout",
     "output_type": "stream",
     "text": [
      "Datatype of the array is  [ True False False  True  True] is bool\n"
     ]
    }
   ],
   "source": [
    "arr=np.array([1,0,0,1,1],dtype='bool')\n",
    "print(\"Datatype of the array is \",arr,\"is\",arr.dtype)"
   ]
  },
  {
   "cell_type": "markdown",
   "id": "978c95b0",
   "metadata": {},
   "source": [
    "### Set the max length of the string using S + some number, such as 'S3' any string longer than the max length will be truncated"
   ]
  },
  {
   "cell_type": "code",
   "execution_count": 8,
   "id": "87cfe495",
   "metadata": {},
   "outputs": [
    {
     "name": "stdout",
     "output_type": "stream",
     "text": [
      "The datatype of  [b'Che' b'sal']  is  |S3\n"
     ]
    }
   ],
   "source": [
    "s = np.array(['Chetan ' ,'salunke'], dtype='S3') #print size 3 ,elements of string if passed argument dtype=s3\n",
    "print(\"The datatype of \", s ,\" is \",s.dtype)"
   ]
  },
  {
   "cell_type": "code",
   "execution_count": 9,
   "id": "f6a6e761",
   "metadata": {},
   "outputs": [
    {
     "name": "stdout",
     "output_type": "stream",
     "text": [
      "The datatype of  [b'Chetan ' b'salunke']  is  |S7\n"
     ]
    }
   ],
   "source": [
    "s = np.array(['Chetan ' ,'salunke'], dtype='S7')\n",
    "print(\"The datatype of \", s ,\" is \",s.dtype)"
   ]
  },
  {
   "cell_type": "markdown",
   "id": "074de6ad",
   "metadata": {},
   "source": [
    "# Sequence Array"
   ]
  },
  {
   "cell_type": "markdown",
   "id": "3692435c",
   "metadata": {},
   "source": [
    "## Even values array "
   ]
  },
  {
   "cell_type": "code",
   "execution_count": 10,
   "id": "5ed5a4d4",
   "metadata": {},
   "outputs": [],
   "source": [
    " #np.arange(start,stop ,stepsize)\n",
    "arr=np.arange(0,10,2)"
   ]
  },
  {
   "cell_type": "code",
   "execution_count": 11,
   "id": "ca2c0529",
   "metadata": {},
   "outputs": [
    {
     "name": "stdout",
     "output_type": "stream",
     "text": [
      "[0 2 4 6 8]\n"
     ]
    }
   ],
   "source": [
    "print(arr)"
   ]
  },
  {
   "cell_type": "markdown",
   "id": "3576751b",
   "metadata": {},
   "source": [
    "# specified difference values array in  specified interval"
   ]
  },
  {
   "cell_type": "code",
   "execution_count": 12,
   "id": "6dbae6b6",
   "metadata": {},
   "outputs": [
    {
     "name": "stdout",
     "output_type": "stream",
     "text": [
      "[ 0.   2.5  5.   7.5 10. ]\n"
     ]
    }
   ],
   "source": [
    "# np.linspace(start, stop, num_of_elements, endpoint=True, retstep=False) \n",
    "arr = np.linspace(0,10, 5)\n",
    "print(arr)\n"
   ]
  },
  {
   "cell_type": "code",
   "execution_count": 13,
   "id": "c94dc98c",
   "metadata": {},
   "outputs": [
    {
     "name": "stdout",
     "output_type": "stream",
     "text": [
      "array: [ 0.   2.5  5.   7.5 10. ]\n",
      "step: (array([0, 2, 4, 6, 8]), 2.0)\n"
     ]
    }
   ],
   "source": [
    "step=np.linspace(0,10,5,endpoint=False, retstep=True,dtype='int')\n",
    "print(\"array:\",arr)\n",
    "print(\"step:\",step)"
   ]
  },
  {
   "cell_type": "code",
   "execution_count": 14,
   "id": "653831bc",
   "metadata": {},
   "outputs": [
    {
     "name": "stdout",
     "output_type": "stream",
     "text": [
      "array:  [0 2 4 6 8]\n",
      "step : 2.0\n"
     ]
    }
   ],
   "source": [
    "arr, step = np.linspace(0, 10, 5, endpoint=False, retstep=True,dtype='int')\n",
    "print(\"array: \",arr)\n",
    "print(\"step :\",step)"
   ]
  },
  {
   "cell_type": "markdown",
   "id": "1101197d",
   "metadata": {},
   "source": [
    "# Create An Array Of Random Values In A Given Shape"
   ]
  },
  {
   "cell_type": "code",
   "execution_count": 15,
   "id": "aef9251b",
   "metadata": {},
   "outputs": [
    {
     "name": "stdout",
     "output_type": "stream",
     "text": [
      "[[0.91686492 0.56368849 0.74030073]\n",
      " [0.58119707 0.20763287 0.3544387 ]]\n"
     ]
    }
   ],
   "source": [
    "arr=np.random.rand(2,3)\n",
    "print(arr)"
   ]
  },
  {
   "cell_type": "markdown",
   "id": "82339c89",
   "metadata": {},
   "source": [
    "# Create an Array of Zeros in a Given Shape`"
   ]
  },
  {
   "cell_type": "code",
   "execution_count": 16,
   "id": "3a5e7d3d",
   "metadata": {},
   "outputs": [
    {
     "name": "stdout",
     "output_type": "stream",
     "text": [
      "[[0. 0. 0.]\n",
      " [0. 0. 0.]]\n"
     ]
    }
   ],
   "source": [
    "zeros=np.zeros((2,3))\n",
    "print(zeros)"
   ]
  },
  {
   "cell_type": "markdown",
   "id": "069822ec",
   "metadata": {},
   "source": [
    "# Create An Array Of Zeros With The Same Shape And Data Type As A Given Array"
   ]
  },
  {
   "cell_type": "code",
   "execution_count": 17,
   "id": "a45f28f8",
   "metadata": {},
   "outputs": [
    {
     "data": {
      "text/plain": [
       "array([[0.91686492, 0.56368849, 0.74030073],\n",
       "       [0.58119707, 0.20763287, 0.3544387 ]])"
      ]
     },
     "execution_count": 17,
     "metadata": {},
     "output_type": "execute_result"
    }
   ],
   "source": [
    "arr"
   ]
  },
  {
   "cell_type": "code",
   "execution_count": 18,
   "id": "bad99afb",
   "metadata": {},
   "outputs": [
    {
     "name": "stdout",
     "output_type": "stream",
     "text": [
      "[[0.91686492 0.56368849 0.74030073]\n",
      " [0.58119707 0.20763287 0.3544387 ]]\n",
      "\n",
      "[[0. 0. 0.]\n",
      " [0. 0. 0.]]\n"
     ]
    }
   ],
   "source": [
    "zeros=np.zeros_like(arr)\n",
    "print(arr)  \n",
    "print()\n",
    "print(zeros)"
   ]
  },
  {
   "cell_type": "markdown",
   "id": "3f5378e6",
   "metadata": {},
   "source": [
    "# Create An Array Of Ones In A Given Shape"
   ]
  },
  {
   "cell_type": "code",
   "execution_count": 19,
   "id": "942436ed",
   "metadata": {},
   "outputs": [
    {
     "name": "stdout",
     "output_type": "stream",
     "text": [
      "[[1. 1. 1.]\n",
      " [1. 1. 1.]\n",
      " [1. 1. 1.]]\n"
     ]
    }
   ],
   "source": [
    "ones=np.ones((3,3))\n",
    "print(ones)"
   ]
  },
  {
   "cell_type": "code",
   "execution_count": 20,
   "id": "964dff49",
   "metadata": {},
   "outputs": [
    {
     "data": {
      "text/plain": [
       "array([[0.82063103, 0.75936614, 0.41904554],\n",
       "       [0.54970734, 0.26730007, 0.70368523],\n",
       "       [0.02015736, 0.95756493, 0.8324204 ]])"
      ]
     },
     "execution_count": 20,
     "metadata": {},
     "output_type": "execute_result"
    }
   ],
   "source": [
    "arr=np.random.rand(3,3)\n",
    "arr"
   ]
  },
  {
   "cell_type": "code",
   "execution_count": 21,
   "id": "fdaf29e1",
   "metadata": {},
   "outputs": [
    {
     "name": "stdout",
     "output_type": "stream",
     "text": [
      "[[0.82063103 0.75936614 0.41904554]\n",
      " [0.54970734 0.26730007 0.70368523]\n",
      " [0.02015736 0.95756493 0.8324204 ]]\n",
      "\n",
      "[[1. 1. 1.]\n",
      " [1. 1. 1.]\n",
      " [1. 1. 1.]]\n"
     ]
    }
   ],
   "source": [
    "ones=np.ones_like(arr)\n",
    "print(arr)\n",
    "print()\n",
    "print(ones)"
   ]
  },
  {
   "cell_type": "markdown",
   "id": "2bf34d3d",
   "metadata": {},
   "source": [
    "# Create an array of arbitrary values in a given shape"
   ]
  },
  {
   "cell_type": "code",
   "execution_count": 22,
   "id": "fa509918",
   "metadata": {},
   "outputs": [
    {
     "name": "stdout",
     "output_type": "stream",
     "text": [
      "[[ 2.5  5. ]\n",
      " [ 7.5 10. ]]\n"
     ]
    }
   ],
   "source": [
    "a=np.empty((2,2))\n",
    "print(a)"
   ]
  },
  {
   "cell_type": "markdown",
   "id": "03d2cf90",
   "metadata": {},
   "source": [
    "# Create an array of arbitrary values with the same shape and data type as a given array"
   ]
  },
  {
   "cell_type": "code",
   "execution_count": 23,
   "id": "a6a8c5e2",
   "metadata": {},
   "outputs": [
    {
     "data": {
      "text/plain": [
       "array([[1., 1.],\n",
       "       [1., 1.],\n",
       "       [1., 1.]])"
      ]
     },
     "execution_count": 23,
     "metadata": {},
     "output_type": "execute_result"
    }
   ],
   "source": [
    "a=np.ones((3,2))\n",
    "a"
   ]
  },
  {
   "cell_type": "code",
   "execution_count": 24,
   "id": "eb8223d8",
   "metadata": {},
   "outputs": [
    {
     "name": "stdout",
     "output_type": "stream",
     "text": [
      "[[1. 1.]\n",
      " [1. 1.]\n",
      " [1. 1.]]\n"
     ]
    }
   ],
   "source": [
    "a=np.empty_like(a)\n",
    "print(a)"
   ]
  },
  {
   "cell_type": "markdown",
   "id": "0f9496da",
   "metadata": {},
   "source": [
    "# Create an array of constant values in a given shape"
   ]
  },
  {
   "cell_type": "code",
   "execution_count": 25,
   "id": "376a6ae3",
   "metadata": {},
   "outputs": [
    {
     "name": "stdout",
     "output_type": "stream",
     "text": [
      "[[7 7 7]\n",
      " [7 7 7]\n",
      " [7 7 7]]\n"
     ]
    }
   ],
   "source": [
    "arr=np.full((3,3),7)\n",
    "print(arr)"
   ]
  },
  {
   "cell_type": "markdown",
   "id": "ab8ecd35",
   "metadata": {},
   "source": [
    "# Create an array of constant values with the same shape and data type as a given array"
   ]
  },
  {
   "cell_type": "code",
   "execution_count": 26,
   "id": "fc89a187",
   "metadata": {},
   "outputs": [
    {
     "name": "stdout",
     "output_type": "stream",
     "text": [
      "[[7 7 7]\n",
      " [7 7 7]\n",
      " [7 7 7]]\n"
     ]
    }
   ],
   "source": [
    "arr=np.full_like(arr,7)\n",
    "print(arr)"
   ]
  },
  {
   "cell_type": "code",
   "execution_count": 27,
   "id": "21cadbc8",
   "metadata": {},
   "outputs": [
    {
     "name": "stdout",
     "output_type": "stream",
     "text": [
      "[[0 0 0]\n",
      " [0 0 0]\n",
      " [0 0 0]]\n"
     ]
    }
   ],
   "source": [
    "print(np.full_like(arr,0))"
   ]
  },
  {
   "cell_type": "code",
   "execution_count": 28,
   "id": "fb1695e8",
   "metadata": {},
   "outputs": [
    {
     "name": "stdout",
     "output_type": "stream",
     "text": [
      "[[1 1 1]\n",
      " [1 1 1]\n",
      " [1 1 1]]\n"
     ]
    }
   ],
   "source": [
    "print(np.full_like(arr,1))"
   ]
  },
  {
   "cell_type": "code",
   "execution_count": 29,
   "id": "ae7e49d1",
   "metadata": {},
   "outputs": [],
   "source": [
    "a=np.random.rand(5,5)"
   ]
  },
  {
   "cell_type": "code",
   "execution_count": 30,
   "id": "1e40a696",
   "metadata": {},
   "outputs": [
    {
     "name": "stdout",
     "output_type": "stream",
     "text": [
      "[[1 0 0 0 0]\n",
      " [0 1 0 0 0]\n",
      " [0 0 1 0 0]\n",
      " [0 0 0 1 0]\n",
      " [0 0 0 0 1]]\n"
     ]
    }
   ],
   "source": [
    "row,col=a.shape\n",
    "print(np.full_like(a,np.eye(row),dtype='int'))"
   ]
  },
  {
   "cell_type": "markdown",
   "id": "98bc96bd",
   "metadata": {},
   "source": [
    "# Create an array by repetition"
   ]
  },
  {
   "cell_type": "markdown",
   "id": "f38e4de7",
   "metadata": {},
   "source": [
    "### Repeat each element of an array(According to axis(row/col) by a specified number of times\n",
    "\n"
   ]
  },
  {
   "cell_type": "markdown",
   "id": "c5909b0a",
   "metadata": {},
   "source": [
    "###### here row 'or' col repeat at one time"
   ]
  },
  {
   "cell_type": "code",
   "execution_count": 31,
   "id": "0eaa24e6",
   "metadata": {},
   "outputs": [
    {
     "name": "stdout",
     "output_type": "stream",
     "text": [
      "[[0.1407919  0.84479226]\n",
      " [0.71031599 0.6640668 ]]\n"
     ]
    }
   ],
   "source": [
    "arr=np.random.rand(2,2)\n",
    "print(arr)"
   ]
  },
  {
   "cell_type": "code",
   "execution_count": 32,
   "id": "48be5f87",
   "metadata": {},
   "outputs": [
    {
     "name": "stdout",
     "output_type": "stream",
     "text": [
      "Original array:\n",
      " [[0.43255416 0.17602959]\n",
      " [0.95649646 0.2229723 ]]\n",
      "\n",
      "Repeated Element array:\n",
      " [[0.43255416 0.17602959]\n",
      " [0.43255416 0.17602959]\n",
      " [0.43255416 0.17602959]\n",
      " [0.43255416 0.17602959]\n",
      " [0.43255416 0.17602959]\n",
      " [0.95649646 0.2229723 ]]\n"
     ]
    },
    {
     "data": {
      "text/plain": [
       "numpy.ndarray"
      ]
     },
     "execution_count": 32,
     "metadata": {},
     "output_type": "execute_result"
    }
   ],
   "source": [
    "arr=np.random.rand(2,2)\n",
    "print(\"Original array:\\n\",arr)\n",
    "print()\n",
    "print(\"Repeated Element array:\\n\",np.repeat(arr, [5,1],axis=0))    # or np.repeat(range(3), 3)\n",
    "#[5,1] first row repeat 5 times and second 1 time\n",
    "\n",
    "type(arr)"
   ]
  },
  {
   "cell_type": "code",
   "execution_count": 33,
   "id": "32237158",
   "metadata": {},
   "outputs": [
    {
     "name": "stdout",
     "output_type": "stream",
     "text": [
      "first col repeat 2 times and second col repeat 2 times\n",
      "\n"
     ]
    },
    {
     "data": {
      "text/plain": [
       "array([[0.43255416, 0.43255416, 0.17602959, 0.17602959],\n",
       "       [0.95649646, 0.95649646, 0.2229723 , 0.2229723 ]])"
      ]
     },
     "execution_count": 33,
     "metadata": {},
     "output_type": "execute_result"
    }
   ],
   "source": [
    "print(\"first col repeat 2 times and second col repeat 2 times\\n\")\n",
    "np.repeat(arr,[2,2],axis=1) #[2,2] first col repeat 2 times and second col repeat 2 times.\n"
   ]
  },
  {
   "cell_type": "code",
   "execution_count": 34,
   "id": "16af4650",
   "metadata": {},
   "outputs": [
    {
     "name": "stdout",
     "output_type": "stream",
     "text": [
      "first row repeat 2 times and second row repeat 2 times\n",
      "\n"
     ]
    },
    {
     "data": {
      "text/plain": [
       "array([[0.43255416, 0.17602959],\n",
       "       [0.43255416, 0.17602959],\n",
       "       [0.95649646, 0.2229723 ],\n",
       "       [0.95649646, 0.2229723 ]])"
      ]
     },
     "execution_count": 34,
     "metadata": {},
     "output_type": "execute_result"
    }
   ],
   "source": [
    "print(\"first row repeat 2 times and second row repeat 2 times\\n\")\n",
    "\n",
    "np.repeat(arr,[2,2],axis=0)"
   ]
  },
  {
   "cell_type": "markdown",
   "id": "f1f4db09",
   "metadata": {},
   "source": [
    "## Repeat an array with specified number of times"
   ]
  },
  {
   "cell_type": "markdown",
   "id": "0ead3568",
   "metadata": {},
   "source": [
    "##### here row 'and ' col repeat at one time"
   ]
  },
  {
   "cell_type": "code",
   "execution_count": 35,
   "id": "140e59a1",
   "metadata": {},
   "outputs": [
    {
     "data": {
      "text/plain": [
       "array([[0.43255416, 0.17602959, 0.43255416, 0.17602959],\n",
       "       [0.95649646, 0.2229723 , 0.95649646, 0.2229723 ]])"
      ]
     },
     "execution_count": 35,
     "metadata": {},
     "output_type": "execute_result"
    }
   ],
   "source": [
    "np.tile(arr,(1,2)) #np.tile(array,(a,b)) "
   ]
  },
  {
   "cell_type": "code",
   "execution_count": 36,
   "id": "3152544e",
   "metadata": {},
   "outputs": [
    {
     "data": {
      "text/plain": [
       "array([[0.43255416, 0.17602959],\n",
       "       [0.95649646, 0.2229723 ],\n",
       "       [0.43255416, 0.17602959],\n",
       "       [0.95649646, 0.2229723 ]])"
      ]
     },
     "execution_count": 36,
     "metadata": {},
     "output_type": "execute_result"
    }
   ],
   "source": [
    "np.tile(arr,(2,1))"
   ]
  },
  {
   "cell_type": "code",
   "execution_count": 37,
   "id": "d11ed5ed",
   "metadata": {
    "scrolled": true
   },
   "outputs": [
    {
     "data": {
      "text/plain": [
       "array([[0.43255416, 0.17602959, 0.43255416, 0.17602959],\n",
       "       [0.95649646, 0.2229723 , 0.95649646, 0.2229723 ],\n",
       "       [0.43255416, 0.17602959, 0.43255416, 0.17602959],\n",
       "       [0.95649646, 0.2229723 , 0.95649646, 0.2229723 ]])"
      ]
     },
     "execution_count": 37,
     "metadata": {},
     "output_type": "execute_result"
    }
   ],
   "source": [
    "np.tile(arr,(2,2))"
   ]
  },
  {
   "cell_type": "markdown",
   "id": "a09bfdb5",
   "metadata": {},
   "source": [
    "# create an identity matrix with a given diagonal size"
   ]
  },
  {
   "cell_type": "code",
   "execution_count": 38,
   "id": "bc0fc150",
   "metadata": {},
   "outputs": [],
   "source": [
    "Identity=np.eye(3)"
   ]
  },
  {
   "cell_type": "code",
   "execution_count": 39,
   "id": "ffd27520",
   "metadata": {},
   "outputs": [
    {
     "name": "stdout",
     "output_type": "stream",
     "text": [
      "[[1. 0. 0.]\n",
      " [0. 1. 0.]\n",
      " [0. 0. 1.]]\n"
     ]
    }
   ],
   "source": [
    "print(Identity)"
   ]
  },
  {
   "cell_type": "code",
   "execution_count": 40,
   "id": "5a752e8e",
   "metadata": {},
   "outputs": [
    {
     "name": "stdout",
     "output_type": "stream",
     "text": [
      "[[1 0 0]\n",
      " [0 1 0]\n",
      " [0 0 1]]\n"
     ]
    }
   ],
   "source": [
    "print(np.eye(3,dtype='int'))"
   ]
  },
  {
   "cell_type": "code",
   "execution_count": 41,
   "id": "176c76e2",
   "metadata": {},
   "outputs": [
    {
     "name": "stdout",
     "output_type": "stream",
     "text": [
      "[[1. 0. 0.]\n",
      " [0. 1. 0.]\n",
      " [0. 0. 1.]]\n"
     ]
    }
   ],
   "source": [
    "print(np.identity(3))"
   ]
  },
  {
   "cell_type": "markdown",
   "id": "89f70855",
   "metadata": {},
   "source": [
    "# Create an identity matrix with a diagonal offset\n"
   ]
  },
  {
   "cell_type": "code",
   "execution_count": 42,
   "id": "0d9b4f37",
   "metadata": {},
   "outputs": [
    {
     "name": "stdout",
     "output_type": "stream",
     "text": [
      "[[0. 1. 0. 0. 0.]\n",
      " [0. 0. 1. 0. 0.]\n",
      " [0. 0. 0. 1. 0.]\n",
      " [0. 0. 0. 0. 1.]\n",
      " [0. 0. 0. 0. 0.]]\n"
     ]
    }
   ],
   "source": [
    "I=np.eye(5,k=1)   # positive number shifts the diagonal upward\n",
    "print(I)"
   ]
  },
  {
   "cell_type": "code",
   "execution_count": 43,
   "id": "280ab771",
   "metadata": {},
   "outputs": [
    {
     "name": "stdout",
     "output_type": "stream",
     "text": [
      "[[0. 0. 1. 0. 0.]\n",
      " [0. 0. 0. 1. 0.]\n",
      " [0. 0. 0. 0. 1.]\n",
      " [0. 0. 0. 0. 0.]\n",
      " [0. 0. 0. 0. 0.]]\n"
     ]
    }
   ],
   "source": [
    "print(np.eye(5,k=2))"
   ]
  },
  {
   "cell_type": "code",
   "execution_count": 44,
   "id": "03250b37",
   "metadata": {},
   "outputs": [
    {
     "name": "stdout",
     "output_type": "stream",
     "text": [
      "[[0. 0. 0. 0. 0.]\n",
      " [1. 0. 0. 0. 0.]\n",
      " [0. 1. 0. 0. 0.]\n",
      " [0. 0. 1. 0. 0.]\n",
      " [0. 0. 0. 1. 0.]]\n"
     ]
    }
   ],
   "source": [
    "I=np.eye(5,k=-1)  # negative number shifts the diagonal downward\n",
    "print(I)"
   ]
  },
  {
   "cell_type": "markdown",
   "id": "b4a65946",
   "metadata": {},
   "source": [
    "# Extract the diagonal array / create a diagonal array"
   ]
  },
  {
   "cell_type": "code",
   "execution_count": 45,
   "id": "d474e8b0",
   "metadata": {},
   "outputs": [
    {
     "name": "stdout",
     "output_type": "stream",
     "text": [
      "[[0.34650754 0.83096492]\n",
      " [0.64615272 0.00981097]]\n"
     ]
    }
   ],
   "source": [
    "arr=np.random.rand(2,2)\n",
    "print(arr)"
   ]
  },
  {
   "cell_type": "code",
   "execution_count": 46,
   "id": "7c38c038",
   "metadata": {},
   "outputs": [
    {
     "data": {
      "text/plain": [
       "array([0.34650754, 0.00981097])"
      ]
     },
     "execution_count": 46,
     "metadata": {},
     "output_type": "execute_result"
    }
   ],
   "source": [
    "np.diag(arr)  #Extract the diagonal elements of array"
   ]
  },
  {
   "cell_type": "code",
   "execution_count": 47,
   "id": "4460605f",
   "metadata": {},
   "outputs": [
    {
     "name": "stdout",
     "output_type": "stream",
     "text": [
      "[[1 0 0]\n",
      " [0 2 0]\n",
      " [0 0 4]]\n"
     ]
    }
   ],
   "source": [
    "arr=np.diag([1,2,4])\n",
    "print(arr)"
   ]
  },
  {
   "cell_type": "markdown",
   "id": "8eb16f2a",
   "metadata": {},
   "source": [
    "# Inspect Arrays"
   ]
  },
  {
   "cell_type": "markdown",
   "id": "c708053b",
   "metadata": {},
   "source": [
    "## Inspect general information of an array"
   ]
  },
  {
   "cell_type": "code",
   "execution_count": 48,
   "id": "fe97f24e",
   "metadata": {},
   "outputs": [],
   "source": [
    "arr=np.array([[2,3,5],[7,11,13]])"
   ]
  },
  {
   "cell_type": "code",
   "execution_count": 49,
   "id": "dbda1bcd",
   "metadata": {},
   "outputs": [
    {
     "name": "stdout",
     "output_type": "stream",
     "text": [
      "class:  ndarray\n",
      "shape:  (2, 3)\n",
      "strides:  (12, 4)\n",
      "itemsize:  4\n",
      "aligned:  True\n",
      "contiguous:  True\n",
      "fortran:  False\n",
      "data pointer: 0x242e72cba10\n",
      "byteorder:  little\n",
      "byteswap:  False\n",
      "type: int32\n",
      "None\n"
     ]
    }
   ],
   "source": [
    "print(np.info(arr))"
   ]
  },
  {
   "cell_type": "markdown",
   "id": "3fc6db73",
   "metadata": {},
   "source": [
    "## Inspect the data type of an array"
   ]
  },
  {
   "cell_type": "code",
   "execution_count": 50,
   "id": "de240967",
   "metadata": {},
   "outputs": [
    {
     "name": "stdout",
     "output_type": "stream",
     "text": [
      "int32\n"
     ]
    }
   ],
   "source": [
    "print(arr.dtype)"
   ]
  },
  {
   "cell_type": "markdown",
   "id": "0a1f628f",
   "metadata": {},
   "source": [
    "## inspect the dimension of an array"
   ]
  },
  {
   "cell_type": "code",
   "execution_count": 51,
   "id": "459d889f",
   "metadata": {},
   "outputs": [
    {
     "name": "stdout",
     "output_type": "stream",
     "text": [
      "2 3\n"
     ]
    }
   ],
   "source": [
    "row,col=arr.shape\n",
    "print(row,col)"
   ]
  },
  {
   "cell_type": "markdown",
   "id": "0f7e5d4a",
   "metadata": {},
   "source": [
    "## Inspect length of an array"
   ]
  },
  {
   "cell_type": "code",
   "execution_count": 52,
   "id": "360b3e6c",
   "metadata": {},
   "outputs": [
    {
     "name": "stdout",
     "output_type": "stream",
     "text": [
      "2\n"
     ]
    }
   ],
   "source": [
    "print(len(arr))"
   ]
  },
  {
   "cell_type": "markdown",
   "id": "ca5f29e1",
   "metadata": {},
   "source": [
    "## Inspect the number of dimensions of an array"
   ]
  },
  {
   "cell_type": "code",
   "execution_count": 53,
   "id": "d2905965",
   "metadata": {},
   "outputs": [
    {
     "name": "stdout",
     "output_type": "stream",
     "text": [
      "2\n"
     ]
    }
   ],
   "source": [
    "print(arr.ndim)"
   ]
  },
  {
   "cell_type": "markdown",
   "id": "b4d11429",
   "metadata": {},
   "source": [
    "## Inspect the number of elements in an array"
   ]
  },
  {
   "cell_type": "code",
   "execution_count": 54,
   "id": "7e42e2fc",
   "metadata": {},
   "outputs": [
    {
     "name": "stdout",
     "output_type": "stream",
     "text": [
      "6\n"
     ]
    }
   ],
   "source": [
    "print(arr.size)"
   ]
  },
  {
   "cell_type": "code",
   "execution_count": 55,
   "id": "82c05a60",
   "metadata": {},
   "outputs": [
    {
     "name": "stdout",
     "output_type": "stream",
     "text": [
      "4\n"
     ]
    }
   ],
   "source": [
    "print(arr.itemsize)"
   ]
  },
  {
   "cell_type": "markdown",
   "id": "a6d2c4f9",
   "metadata": {},
   "source": [
    "## Inspect the memory size of an array (in byte)"
   ]
  },
  {
   "cell_type": "code",
   "execution_count": 56,
   "id": "78e10b08",
   "metadata": {},
   "outputs": [
    {
     "name": "stdout",
     "output_type": "stream",
     "text": [
      "24\n"
     ]
    }
   ],
   "source": [
    "# arr.nbytes = arr.size * arr.itemsize (total memory taken by array)\n",
    "print(arr.nbytes)"
   ]
  },
  {
   "cell_type": "markdown",
   "id": "24f6c5d8",
   "metadata": {},
   "source": [
    "# Sampling Methods"
   ]
  },
  {
   "cell_type": "markdown",
   "id": "cdf6e39b",
   "metadata": {},
   "source": [
    "## Set seed"
   ]
  },
  {
   "cell_type": "code",
   "execution_count": 57,
   "id": "79ea27e8",
   "metadata": {},
   "outputs": [],
   "source": [
    "np.random.seed(123) #this fix the random numbers,if each coder user have same seed then each will get same random numbers generated"
   ]
  },
  {
   "cell_type": "markdown",
   "id": "56292e5b",
   "metadata": {},
   "source": [
    "## Generate a random sample from interval [0, 1) in a given shape"
   ]
  },
  {
   "cell_type": "code",
   "execution_count": 58,
   "id": "cedab2cb",
   "metadata": {},
   "outputs": [
    {
     "name": "stdout",
     "output_type": "stream",
     "text": [
      "0.6964691855978616\n"
     ]
    }
   ],
   "source": [
    "print(np.random.rand()) #generated random number "
   ]
  },
  {
   "cell_type": "code",
   "execution_count": 59,
   "id": "bf9108f5",
   "metadata": {},
   "outputs": [
    {
     "name": "stdout",
     "output_type": "stream",
     "text": [
      "[[0.28613933 0.22685145 0.55131477]]\n"
     ]
    }
   ],
   "source": [
    "print(np.random.rand(1,3)) #generate 1D array"
   ]
  },
  {
   "cell_type": "code",
   "execution_count": 60,
   "id": "b870e367",
   "metadata": {},
   "outputs": [
    {
     "name": "stdout",
     "output_type": "stream",
     "text": [
      "[[0.71946897 0.42310646]\n",
      " [0.9807642  0.68482974]\n",
      " [0.4809319  0.39211752]]\n"
     ]
    }
   ],
   "source": [
    "print(np.random.rand(3,2)) #generate 2D array"
   ]
  },
  {
   "cell_type": "markdown",
   "id": "0a5754db",
   "metadata": {},
   "source": [
    "## Generate a sample from the standard normal distribution (mean = 0, var = 1)"
   ]
  },
  {
   "cell_type": "code",
   "execution_count": 61,
   "id": "e9ac1298",
   "metadata": {},
   "outputs": [
    {
     "name": "stdout",
     "output_type": "stream",
     "text": [
      "[[ 1.26593626 -0.8667404  -0.67888615]\n",
      " [-0.09470897  1.49138963 -0.638902  ]\n",
      " [-0.44398196 -0.43435128  2.20593008]]\n"
     ]
    }
   ],
   "source": [
    "print(np.random.randn(3,3))\n"
   ]
  },
  {
   "cell_type": "code",
   "execution_count": null,
   "id": "ed3d806f",
   "metadata": {},
   "outputs": [],
   "source": []
  },
  {
   "cell_type": "markdown",
   "id": "e4a0d8f4",
   "metadata": {},
   "source": [
    "## Generate an array of random integers in a given interval [low, high)"
   ]
  },
  {
   "cell_type": "code",
   "execution_count": 62,
   "id": "aa1de5e7",
   "metadata": {},
   "outputs": [
    {
     "name": "stdout",
     "output_type": "stream",
     "text": [
      "[9 1 8 4 5 7 2 6 7 3 2 9 4 6 1 3 7 3 5 5 7 4 1 7 5 8 7 8 2 6]\n"
     ]
    }
   ],
   "source": [
    "#np.random.randint(low,high,size,dtype)\n",
    "arr=np.random.randint(1,10,30,dtype='i8')\n",
    "print(arr)"
   ]
  },
  {
   "cell_type": "markdown",
   "id": "46d63f51",
   "metadata": {},
   "source": [
    "## generate an array of random floating-point numbers in the interval [0.0, 1.0)"
   ]
  },
  {
   "cell_type": "code",
   "execution_count": 63,
   "id": "0173c88d",
   "metadata": {},
   "outputs": [
    {
     "name": "stdout",
     "output_type": "stream",
     "text": [
      "[0.15416284 0.7400497  0.26331502 0.53373939 0.01457496]\n",
      "[0.91874701 0.90071485 0.03342143 0.95694934 0.13720932]\n",
      "[0.28382835 0.60608318 0.94422514 0.85273554 0.00225923]\n",
      "[0.52122603 0.55203763 0.48537741 0.76813415 0.16071675]\n"
     ]
    }
   ],
   "source": [
    "np.random.seed(12)\n",
    "print(np.random.sample(5))\n",
    "print(np.random.random(5))\n",
    "print(np.random.ranf(5))\n",
    "print(np.random.random_sample(5))"
   ]
  },
  {
   "cell_type": "markdown",
   "id": "980000ae",
   "metadata": {},
   "source": [
    "# Sampling Discrete Distribution"
   ]
  },
  {
   "cell_type": "markdown",
   "id": "3055916a",
   "metadata": {},
   "source": [
    "### Generate a random sample from a given Discrete Distribution"
   ]
  },
  {
   "cell_type": "code",
   "execution_count": 64,
   "id": "fc6884ac",
   "metadata": {},
   "outputs": [],
   "source": [
    "#np.random.choice(iterable_or_int,size,replace=True,Weight=p)"
   ]
  },
  {
   "cell_type": "code",
   "execution_count": 65,
   "id": "dd6b8c06",
   "metadata": {},
   "outputs": [
    {
     "name": "stdout",
     "output_type": "stream",
     "text": [
      "[2 0 1 1 1 2 1 2 1 2]\n"
     ]
    }
   ],
   "source": [
    "print(np.random.choice(4,10,replace=True,p=[0.1,0.5,0.3,0.1]))"
   ]
  },
  {
   "cell_type": "code",
   "execution_count": 66,
   "id": "0c5d2e33",
   "metadata": {},
   "outputs": [
    {
     "name": "stdout",
     "output_type": "stream",
     "text": [
      "[32 17]\n"
     ]
    }
   ],
   "source": [
    "print(np.random.choice(range(1,48),2,replace=False))  #generating random number from the (1,48) SRSWOR\n"
   ]
  },
  {
   "cell_type": "code",
   "execution_count": 67,
   "id": "b8df0e7c",
   "metadata": {},
   "outputs": [
    {
     "name": "stdout",
     "output_type": "stream",
     "text": [
      "38\n"
     ]
    }
   ],
   "source": [
    "print(np.random.choice(range(1,48),replace=True))  #generating random number from the (1,48) SRSWR(Bydefault)"
   ]
  },
  {
   "cell_type": "code",
   "execution_count": 68,
   "id": "01889163",
   "metadata": {},
   "outputs": [
    {
     "name": "stdout",
     "output_type": "stream",
     "text": [
      "[1 1 8 8 0 1 0 8 1 8]\n"
     ]
    }
   ],
   "source": [
    "print(np.random.choice([1,8,0],10))"
   ]
  },
  {
   "cell_type": "code",
   "execution_count": 69,
   "id": "5a65bc18",
   "metadata": {},
   "outputs": [
    {
     "name": "stdout",
     "output_type": "stream",
     "text": [
      "['a' 'c' 'b' 'c' 'b' 'a' 'c' 'a' 'a' 'a']\n"
     ]
    }
   ],
   "source": [
    "print(np.random.choice(['a','b','c'], 10))\n"
   ]
  },
  {
   "cell_type": "markdown",
   "id": "88510ecb",
   "metadata": {},
   "source": [
    "# Sampling from Various Distributions"
   ]
  },
  {
   "cell_type": "code",
   "execution_count": 70,
   "id": "84495689",
   "metadata": {},
   "outputs": [
    {
     "name": "stdout",
     "output_type": "stream",
     "text": [
      "[10.17635175 11.16715865 13.34977789 13.8264866  14.86714163  9.76282176\n",
      " 11.38463197 12.36665898  8.64609023  8.68663503]\n"
     ]
    }
   ],
   "source": [
    "print(np.random.normal(loc=11,scale=2,size=10))"
   ]
  },
  {
   "cell_type": "code",
   "execution_count": 71,
   "id": "329dfe7d",
   "metadata": {},
   "outputs": [
    {
     "name": "stdout",
     "output_type": "stream",
     "text": [
      "[0.68908817 6.31262023 1.04161166 5.85823516 3.89248823 2.33545962\n",
      " 0.00658677 4.60724125 5.04808191 0.01185377]\n"
     ]
    }
   ],
   "source": [
    "print(np.random.gamma(1,2,10))"
   ]
  },
  {
   "cell_type": "code",
   "execution_count": 72,
   "id": "cfa5705d",
   "metadata": {},
   "outputs": [
    {
     "name": "stdout",
     "output_type": "stream",
     "text": [
      "[3 2 3 3 3 2 1 3 4 2]\n"
     ]
    }
   ],
   "source": [
    "print(np.random.binomial(5,0.5,10))"
   ]
  },
  {
   "cell_type": "code",
   "execution_count": 73,
   "id": "5aba043e",
   "metadata": {},
   "outputs": [
    {
     "name": "stdout",
     "output_type": "stream",
     "text": [
      "[ 1.18245896  2.36958263  2.57791134 10.82184757  1.12920056  2.71515022\n",
      "  5.22004063  3.58354243  2.03107058  7.5360638 ]\n"
     ]
    }
   ],
   "source": [
    "print(np.random.exponential(5,10))    "
   ]
  },
  {
   "cell_type": "code",
   "execution_count": 74,
   "id": "7ecbcd75",
   "metadata": {},
   "outputs": [
    {
     "name": "stdout",
     "output_type": "stream",
     "text": [
      "[1 1 2 5 1 1 8 1 3 1]\n"
     ]
    }
   ],
   "source": [
    "print(np.random.geometric(0.3,10))"
   ]
  },
  {
   "cell_type": "code",
   "execution_count": 75,
   "id": "7821b672",
   "metadata": {},
   "outputs": [
    {
     "name": "stdout",
     "output_type": "stream",
     "text": [
      "[4 1 1 5 5 6 5 6 6 5]\n"
     ]
    }
   ],
   "source": [
    "print(np.random.poisson(5,10))"
   ]
  },
  {
   "cell_type": "code",
   "execution_count": 76,
   "id": "09aa09ae",
   "metadata": {},
   "outputs": [
    {
     "name": "stdout",
     "output_type": "stream",
     "text": [
      "[17.74940215 11.05895152 19.05395867 15.87886485 19.88089758 14.28661357\n",
      " 16.29849979 17.76281334 12.59817488 16.38913069]\n"
     ]
    }
   ],
   "source": [
    "print(np.random.uniform(low=10,high=20,size=10))"
   ]
  },
  {
   "cell_type": "markdown",
   "id": "fcda6596",
   "metadata": {},
   "source": [
    "# Sampling from the Standerd Distributions"
   ]
  },
  {
   "cell_type": "code",
   "execution_count": 77,
   "id": "12dc8619",
   "metadata": {},
   "outputs": [
    {
     "data": {
      "text/plain": [
       "array([ 0.08463606,  1.2982271 ,  1.02259447, -2.49075849,  1.08484657,\n",
       "        0.64033546, -0.81598523,  0.23736343,  1.12665435,  3.32034526])"
      ]
     },
     "execution_count": 77,
     "metadata": {},
     "output_type": "execute_result"
    }
   ],
   "source": [
    "np.random.standard_normal(10)"
   ]
  },
  {
   "cell_type": "code",
   "execution_count": 78,
   "id": "c132fa10",
   "metadata": {},
   "outputs": [
    {
     "data": {
      "text/plain": [
       "array([[-0.97969203, -0.83460635,  0.32646965],\n",
       "       [-1.24495911,  0.47712462, -0.77988871],\n",
       "       [ 0.425084  ,  0.81795101, -0.65616086]])"
      ]
     },
     "execution_count": 78,
     "metadata": {},
     "output_type": "execute_result"
    }
   ],
   "source": [
    "np.random.standard_normal((3,3))"
   ]
  },
  {
   "cell_type": "code",
   "execution_count": 79,
   "id": "4b037ad6",
   "metadata": {},
   "outputs": [
    {
     "data": {
      "text/plain": [
       "array([0.71952406, 0.42190585, 0.78878253, 1.15873413, 0.35623632,\n",
       "       0.24252749, 1.55262662, 1.49543511, 0.04262148, 1.03700566])"
      ]
     },
     "execution_count": 79,
     "metadata": {},
     "output_type": "execute_result"
    }
   ],
   "source": [
    "np.random.standard_exponential(10)"
   ]
  },
  {
   "cell_type": "code",
   "execution_count": 80,
   "id": "83f3b26c",
   "metadata": {},
   "outputs": [
    {
     "data": {
      "text/plain": [
       "5.71996715489205"
      ]
     },
     "execution_count": 80,
     "metadata": {},
     "output_type": "execute_result"
    }
   ],
   "source": [
    "np.random.standard_gamma(10)"
   ]
  },
  {
   "cell_type": "code",
   "execution_count": 81,
   "id": "e926f48a",
   "metadata": {},
   "outputs": [
    {
     "data": {
      "text/plain": [
       "-1.6961295137591665"
      ]
     },
     "execution_count": 81,
     "metadata": {},
     "output_type": "execute_result"
    }
   ],
   "source": [
    "np.random.standard_t(10)"
   ]
  },
  {
   "cell_type": "markdown",
   "id": "66a1cd0f",
   "metadata": {},
   "source": [
    "# Shuffle an array in place"
   ]
  },
  {
   "cell_type": "code",
   "execution_count": 82,
   "id": "aebae8fe",
   "metadata": {},
   "outputs": [
    {
     "name": "stdout",
     "output_type": "stream",
     "text": [
      "[0 1 2 3 4 5 6 7 8 9]\n"
     ]
    }
   ],
   "source": [
    "arr=np.array(range(10))\n",
    "print(arr)"
   ]
  },
  {
   "cell_type": "code",
   "execution_count": 83,
   "id": "6597815d",
   "metadata": {},
   "outputs": [
    {
     "name": "stdout",
     "output_type": "stream",
     "text": [
      "[1 6 7 5 2 9 8 4 3 0]\n"
     ]
    }
   ],
   "source": [
    "np.random.shuffle(arr)\n",
    "print(arr)"
   ]
  },
  {
   "cell_type": "markdown",
   "id": "08895069",
   "metadata": {},
   "source": [
    "# Generate a permutation of an array\n"
   ]
  },
  {
   "cell_type": "code",
   "execution_count": 84,
   "id": "920803ec",
   "metadata": {},
   "outputs": [
    {
     "name": "stdout",
     "output_type": "stream",
     "text": [
      "A permutation of the array:  [7 0 4 6 2 8 3 9 1 5]\n",
      "The initial array:  [0 1 2 3 4 5 6 7 8 9]\n"
     ]
    }
   ],
   "source": [
    "# similar to np.random.shuffle(), but it returns a copy rather than making changes in place\n",
    "arr = np.array(range(10))\n",
    "print('A permutation of the array: ', np.random.permutation(arr))\n",
    "print('The initial array: ', arr)"
   ]
  },
  {
   "cell_type": "code",
   "execution_count": 85,
   "id": "6d0c4842",
   "metadata": {},
   "outputs": [
    {
     "name": "stdout",
     "output_type": "stream",
     "text": [
      "[1 2 3]\n"
     ]
    }
   ],
   "source": [
    "arr=np.array([1,2,3])\n",
    "print(arr)"
   ]
  },
  {
   "cell_type": "markdown",
   "id": "130f484d",
   "metadata": {},
   "source": [
    "# Math Functions\n"
   ]
  },
  {
   "cell_type": "code",
   "execution_count": 86,
   "id": "f063de17",
   "metadata": {},
   "outputs": [
    {
     "name": "stdout",
     "output_type": "stream",
     "text": [
      "[[3 3 3]\n",
      " [7 1 4]\n",
      " [8 5 1]]\n"
     ]
    }
   ],
   "source": [
    "arr = np.random.randint(1,9,size=(3,3))\n",
    "print(arr)"
   ]
  },
  {
   "cell_type": "markdown",
   "id": "39aa41f9",
   "metadata": {},
   "source": [
    "## element-wise operations"
   ]
  },
  {
   "cell_type": "code",
   "execution_count": 87,
   "id": "a7a2f396",
   "metadata": {},
   "outputs": [
    {
     "name": "stdout",
     "output_type": "stream",
     "text": [
      "[[ 8  8  8]\n",
      " [12  6  9]\n",
      " [13 10  6]]\n"
     ]
    }
   ],
   "source": [
    "print(arr+5)"
   ]
  },
  {
   "cell_type": "code",
   "execution_count": 88,
   "id": "ac11fd31",
   "metadata": {},
   "outputs": [
    {
     "name": "stdout",
     "output_type": "stream",
     "text": [
      "[[-2 -2 -2]\n",
      " [ 2 -4 -1]\n",
      " [ 3  0 -4]]\n"
     ]
    }
   ],
   "source": [
    "print(arr-5)"
   ]
  },
  {
   "cell_type": "code",
   "execution_count": 89,
   "id": "50419383",
   "metadata": {},
   "outputs": [
    {
     "name": "stdout",
     "output_type": "stream",
     "text": [
      "[[15 15 15]\n",
      " [35  5 20]\n",
      " [40 25  5]]\n"
     ]
    }
   ],
   "source": [
    "print(arr*5)"
   ]
  },
  {
   "cell_type": "code",
   "execution_count": 90,
   "id": "00994a01",
   "metadata": {},
   "outputs": [
    {
     "name": "stdout",
     "output_type": "stream",
     "text": [
      "[[0.6 0.6 0.6]\n",
      " [1.4 0.2 0.8]\n",
      " [1.6 1.  0.2]]\n"
     ]
    }
   ],
   "source": [
    "print(arr/5)"
   ]
  },
  {
   "cell_type": "code",
   "execution_count": 91,
   "id": "20ea1561",
   "metadata": {},
   "outputs": [
    {
     "name": "stdout",
     "output_type": "stream",
     "text": [
      "arr1 and arr2:\n",
      " [1 2 3] [4 5 6]\n",
      "mathematical operations on arr1 and arr2:\n",
      " [5 7 9] [-3 -3 -3] [ 4 10 18] [0.25 0.4  0.5 ]\n"
     ]
    }
   ],
   "source": [
    "arr1=np.array([1,2,3])\n",
    "arr2=np.array([4,5,6])\n",
    "arr3=np.add(arr1,arr2)\n",
    "arr4=np.subtract(arr1,arr2)\n",
    "arr5=np.multiply(arr1,arr2)\n",
    "arr6=np.divide(arr1,arr2)\n",
    "print(\"arr1 and arr2:\\n\",arr1,arr2)\n",
    "print(\"mathematical operations on arr1 and arr2:\\n\",arr3,arr4,arr5,arr6)"
   ]
  },
  {
   "cell_type": "markdown",
   "id": "f29faa93",
   "metadata": {},
   "source": [
    "## Element-wise Exponentiation"
   ]
  },
  {
   "cell_type": "code",
   "execution_count": 92,
   "id": "9fe06596",
   "metadata": {},
   "outputs": [
    {
     "data": {
      "text/plain": [
       "array([ 2.71828183,  7.3890561 , 20.08553692])"
      ]
     },
     "execution_count": 92,
     "metadata": {},
     "output_type": "execute_result"
    }
   ],
   "source": [
    "np.exp(arr1)"
   ]
  },
  {
   "cell_type": "markdown",
   "id": "3da1c3de",
   "metadata": {},
   "source": [
    "## Element-wise Logorithm"
   ]
  },
  {
   "cell_type": "code",
   "execution_count": 93,
   "id": "b7bb86d0",
   "metadata": {},
   "outputs": [
    {
     "data": {
      "text/plain": [
       "array([[3, 3, 3],\n",
       "       [7, 1, 4],\n",
       "       [8, 5, 1]])"
      ]
     },
     "execution_count": 93,
     "metadata": {},
     "output_type": "execute_result"
    }
   ],
   "source": [
    "arr"
   ]
  },
  {
   "cell_type": "code",
   "execution_count": 94,
   "id": "f07ac043",
   "metadata": {},
   "outputs": [
    {
     "name": "stdout",
     "output_type": "stream",
     "text": [
      "[[1.09861229 1.09861229 1.09861229]\n",
      " [1.94591015 0.         1.38629436]\n",
      " [2.07944154 1.60943791 0.        ]]\n"
     ]
    }
   ],
   "source": [
    "print(np.log(arr)) #natural log"
   ]
  },
  {
   "cell_type": "code",
   "execution_count": 95,
   "id": "62deb891",
   "metadata": {},
   "outputs": [
    {
     "name": "stdout",
     "output_type": "stream",
     "text": [
      "[[1.5849625  1.5849625  1.5849625 ]\n",
      " [2.80735492 0.         2.        ]\n",
      " [3.         2.32192809 0.        ]]\n"
     ]
    }
   ],
   "source": [
    "print(np.log2(arr)) #Base 2"
   ]
  },
  {
   "cell_type": "code",
   "execution_count": 96,
   "id": "beec4830",
   "metadata": {},
   "outputs": [
    {
     "name": "stdout",
     "output_type": "stream",
     "text": [
      "[[0.47712125 0.47712125 0.47712125]\n",
      " [0.84509804 0.         0.60205999]\n",
      " [0.90308999 0.69897    0.        ]]\n"
     ]
    }
   ],
   "source": [
    "print(np.log10(arr)) #Base 10"
   ]
  },
  {
   "cell_type": "markdown",
   "id": "440e99f4",
   "metadata": {},
   "source": [
    "## Element-wise square root"
   ]
  },
  {
   "cell_type": "code",
   "execution_count": 97,
   "id": "7fe8ad70",
   "metadata": {},
   "outputs": [
    {
     "name": "stdout",
     "output_type": "stream",
     "text": [
      "[[3 3 3]\n",
      " [7 1 4]\n",
      " [8 5 1]]\n",
      "[[1.73205081 1.73205081 1.73205081]\n",
      " [2.64575131 1.         2.        ]\n",
      " [2.82842712 2.23606798 1.        ]]\n"
     ]
    }
   ],
   "source": [
    "print(arr)\n",
    "print(np.sqrt(arr))"
   ]
  },
  {
   "cell_type": "markdown",
   "id": "2cb78740",
   "metadata": {},
   "source": [
    "## Element-wise sine and cosine"
   ]
  },
  {
   "cell_type": "code",
   "execution_count": 98,
   "id": "399e0f8c",
   "metadata": {},
   "outputs": [
    {
     "name": "stdout",
     "output_type": "stream",
     "text": [
      "[[ 0.14112001  0.14112001  0.14112001]\n",
      " [ 0.6569866   0.84147098 -0.7568025 ]\n",
      " [ 0.98935825 -0.95892427  0.84147098]]\n"
     ]
    }
   ],
   "source": [
    "print(np.sin(arr))"
   ]
  },
  {
   "cell_type": "code",
   "execution_count": 99,
   "id": "5275bf81",
   "metadata": {},
   "outputs": [
    {
     "name": "stdout",
     "output_type": "stream",
     "text": [
      "[[-0.9899925  -0.9899925  -0.9899925 ]\n",
      " [ 0.75390225  0.54030231 -0.65364362]\n",
      " [-0.14550003  0.28366219  0.54030231]]\n"
     ]
    }
   ],
   "source": [
    "print(np.cos(arr))"
   ]
  },
  {
   "cell_type": "markdown",
   "id": "0d430db0",
   "metadata": {},
   "source": [
    "## Sum along a specified axis(Row-wise,col-wise)"
   ]
  },
  {
   "cell_type": "code",
   "execution_count": 100,
   "id": "07b632be",
   "metadata": {},
   "outputs": [
    {
     "name": "stdout",
     "output_type": "stream",
     "text": [
      "[[3 3 3]\n",
      " [7 1 4]\n",
      " [8 5 1]]\n"
     ]
    }
   ],
   "source": [
    "print(arr)"
   ]
  },
  {
   "cell_type": "code",
   "execution_count": 101,
   "id": "7653da50",
   "metadata": {},
   "outputs": [
    {
     "name": "stdout",
     "output_type": "stream",
     "text": [
      "[ 9 12 14]\n"
     ]
    }
   ],
   "source": [
    "print(np.sum(arr,axis=1)) #Row-wise"
   ]
  },
  {
   "cell_type": "code",
   "execution_count": 102,
   "id": "b35bc9de",
   "metadata": {},
   "outputs": [
    {
     "name": "stdout",
     "output_type": "stream",
     "text": [
      "[18  9  8]\n"
     ]
    }
   ],
   "source": [
    "print(np.sum(arr,axis=0)) #Col-wise"
   ]
  },
  {
   "cell_type": "markdown",
   "id": "75d0f2a0",
   "metadata": {},
   "source": [
    "## Compute the min and max along a specified axis"
   ]
  },
  {
   "cell_type": "code",
   "execution_count": 103,
   "id": "9ed9e600",
   "metadata": {},
   "outputs": [
    {
     "data": {
      "text/plain": [
       "array([[3, 3, 3],\n",
       "       [7, 1, 4],\n",
       "       [8, 5, 1]])"
      ]
     },
     "execution_count": 103,
     "metadata": {},
     "output_type": "execute_result"
    }
   ],
   "source": [
    "arr"
   ]
  },
  {
   "cell_type": "code",
   "execution_count": 104,
   "id": "103f7b11",
   "metadata": {},
   "outputs": [
    {
     "name": "stdout",
     "output_type": "stream",
     "text": [
      "[3 1 1]\n"
     ]
    }
   ],
   "source": [
    "# calculate min along the row\n",
    "print(np.min(arr, axis=0))"
   ]
  },
  {
   "cell_type": "code",
   "execution_count": 105,
   "id": "31f0ea46",
   "metadata": {},
   "outputs": [
    {
     "name": "stdout",
     "output_type": "stream",
     "text": [
      "[3 7 8]\n"
     ]
    }
   ],
   "source": [
    "# calculate max along the column\n",
    "print(np.max(arr, axis=1))    "
   ]
  },
  {
   "cell_type": "code",
   "execution_count": 106,
   "id": "f25aba24",
   "metadata": {},
   "outputs": [
    {
     "name": "stdout",
     "output_type": "stream",
     "text": [
      "8\n",
      "1\n"
     ]
    }
   ],
   "source": [
    "# if axis not specified, calculate the max/min value of all elements\n",
    "print(np.max(arr))\n",
    "print(np.min(arr))"
   ]
  },
  {
   "cell_type": "markdown",
   "id": "efe8f6e9",
   "metadata": {},
   "source": [
    "## Indices of the min and max along a specified axis\n"
   ]
  },
  {
   "cell_type": "code",
   "execution_count": 107,
   "id": "ac09679c",
   "metadata": {},
   "outputs": [],
   "source": [
    "#gives the indices order according increasing order along axis\n",
    "arr=np.random.rand(2,3)"
   ]
  },
  {
   "cell_type": "code",
   "execution_count": 108,
   "id": "f3cf69fc",
   "metadata": {},
   "outputs": [
    {
     "name": "stdout",
     "output_type": "stream",
     "text": [
      "[[0.99715933 0.31350396 0.56928356]\n",
      " [0.51747251 0.34883397 0.37380862]]\n"
     ]
    }
   ],
   "source": [
    "print(arr)"
   ]
  },
  {
   "cell_type": "code",
   "execution_count": 109,
   "id": "c273a666",
   "metadata": {},
   "outputs": [
    {
     "name": "stdout",
     "output_type": "stream",
     "text": [
      "[1 0 1]\n",
      "[0 1 0]\n"
     ]
    }
   ],
   "source": [
    "print(np.argmin(arr,axis=0)) #Index of Column Minimum\n",
    "print(np.argmax(arr,axis=0)) #Index of Column Maximum"
   ]
  },
  {
   "cell_type": "code",
   "execution_count": 110,
   "id": "0eae927f",
   "metadata": {},
   "outputs": [
    {
     "name": "stdout",
     "output_type": "stream",
     "text": [
      "[1 1]\n",
      "[0 0]\n"
     ]
    }
   ],
   "source": [
    "print(np.argmin(arr,axis=1)) #Index of Row Min\n",
    "print(np.argmax(arr,axis=1)) #Index of Row Max"
   ]
  },
  {
   "cell_type": "code",
   "execution_count": 111,
   "id": "2e0e346a",
   "metadata": {},
   "outputs": [
    {
     "name": "stdout",
     "output_type": "stream",
     "text": [
      "1\n",
      "0\n"
     ]
    }
   ],
   "source": [
    "# if axis not specified, return the index of the flattened array\n",
    "print(np.argmin(arr))\n",
    "print(np.argmax(arr))"
   ]
  },
  {
   "cell_type": "markdown",
   "id": "9ebc5e2a",
   "metadata": {},
   "source": [
    "## Element-wise min and max of two arrays"
   ]
  },
  {
   "cell_type": "code",
   "execution_count": 112,
   "id": "0c2ca98c",
   "metadata": {},
   "outputs": [
    {
     "name": "stdout",
     "output_type": "stream",
     "text": [
      "[2 3 3 6]\n",
      "[1 2 1 4]\n"
     ]
    }
   ],
   "source": [
    "arr1=np.array([1,2,3,6])\n",
    "arr2=np.array([2,3,1,4])\n",
    "print(np.maximum(arr1,arr2))\n",
    "print(np.minimum(arr1,arr2))"
   ]
  },
  {
   "cell_type": "markdown",
   "id": "75d1003d",
   "metadata": {},
   "source": [
    "## Split fractional and integral parts of a floating-point array"
   ]
  },
  {
   "cell_type": "code",
   "execution_count": 113,
   "id": "3c078f1c",
   "metadata": {},
   "outputs": [],
   "source": [
    "arr=np.random.rand(5)*1000"
   ]
  },
  {
   "cell_type": "code",
   "execution_count": 114,
   "id": "67ec396f",
   "metadata": {},
   "outputs": [],
   "source": [
    "fractional,Integral=np.modf(arr)"
   ]
  },
  {
   "cell_type": "code",
   "execution_count": 115,
   "id": "cf721ea5",
   "metadata": {},
   "outputs": [
    {
     "name": "stdout",
     "output_type": "stream",
     "text": [
      "Original Array:  [704.96178026 489.30815144 358.46428738 269.85632052 987.28679227]\n",
      "Fractional Part:  [0.96178026 0.30815144 0.46428738 0.85632052 0.28679227]\n",
      "Integral Part:  [704. 489. 358. 269. 987.]\n"
     ]
    }
   ],
   "source": [
    "print(\"Original Array: \",arr)\n",
    "print(\"Fractional Part: \",fractional)\n",
    "print(\"Integral Part: \",Integral)"
   ]
  },
  {
   "cell_type": "markdown",
   "id": "b1451d23",
   "metadata": {},
   "source": [
    "## Mean Of the array"
   ]
  },
  {
   "cell_type": "code",
   "execution_count": 116,
   "id": "a2157f20",
   "metadata": {},
   "outputs": [
    {
     "name": "stdout",
     "output_type": "stream",
     "text": [
      "561.9754663752276\n"
     ]
    }
   ],
   "source": [
    "print(np.mean(arr))"
   ]
  },
  {
   "cell_type": "code",
   "execution_count": 117,
   "id": "f5a37919",
   "metadata": {},
   "outputs": [
    {
     "name": "stdout",
     "output_type": "stream",
     "text": [
      "[[0.11000377 0.50936257 0.7326304 ]\n",
      " [0.14442983 0.43338355 0.2723895 ]]\n"
     ]
    }
   ],
   "source": [
    "arr=np.random.rand(2,3)\n",
    "print(arr)"
   ]
  },
  {
   "cell_type": "code",
   "execution_count": 118,
   "id": "083b8c1c",
   "metadata": {},
   "outputs": [
    {
     "name": "stdout",
     "output_type": "stream",
     "text": [
      "[0.45066558 0.28340096]\n"
     ]
    }
   ],
   "source": [
    "#Mean along the row\n",
    "print(np.mean(arr,axis=1))"
   ]
  },
  {
   "cell_type": "code",
   "execution_count": 119,
   "id": "e22f34ec",
   "metadata": {},
   "outputs": [
    {
     "data": {
      "text/plain": [
       "0.4506655811573433"
      ]
     },
     "execution_count": 119,
     "metadata": {},
     "output_type": "execute_result"
    }
   ],
   "source": [
    "(arr[0,0]+arr[0,1]+arr[0,2])/3"
   ]
  },
  {
   "cell_type": "code",
   "execution_count": 120,
   "id": "ece053ec",
   "metadata": {},
   "outputs": [
    {
     "name": "stdout",
     "output_type": "stream",
     "text": [
      "[0.1272168  0.47137306 0.50250995]\n"
     ]
    }
   ],
   "source": [
    "#Mean along column\n",
    "print(np.mean(arr,axis=0))"
   ]
  },
  {
   "cell_type": "code",
   "execution_count": 121,
   "id": "6f6a4176",
   "metadata": {},
   "outputs": [
    {
     "data": {
      "text/plain": [
       "0.12721680149840092"
      ]
     },
     "execution_count": 121,
     "metadata": {},
     "output_type": "execute_result"
    }
   ],
   "source": [
    "(arr[0,0]+arr[1,0])/2"
   ]
  },
  {
   "cell_type": "markdown",
   "id": "d4e486ff",
   "metadata": {},
   "source": [
    "# Median"
   ]
  },
  {
   "cell_type": "code",
   "execution_count": 122,
   "id": "9255c03e",
   "metadata": {},
   "outputs": [
    {
     "name": "stdout",
     "output_type": "stream",
     "text": [
      "3.0\n"
     ]
    }
   ],
   "source": [
    "a=np.array([1,2,3,4,4])\n",
    "print(np.median(a))"
   ]
  },
  {
   "cell_type": "code",
   "execution_count": 123,
   "id": "33b7f7c0",
   "metadata": {},
   "outputs": [
    {
     "name": "stdout",
     "output_type": "stream",
     "text": [
      "[0.1272168  0.47137306 0.50250995]\n"
     ]
    }
   ],
   "source": [
    "# compute the median along the row\n",
    "print(np.median(arr,axis=0))"
   ]
  },
  {
   "cell_type": "code",
   "execution_count": 124,
   "id": "09294478",
   "metadata": {},
   "outputs": [
    {
     "name": "stdout",
     "output_type": "stream",
     "text": [
      "[0.50936257 0.2723895 ]\n"
     ]
    }
   ],
   "source": [
    "# compute the median along the column\n",
    "print(np.median(arr,axis=1))"
   ]
  },
  {
   "cell_type": "markdown",
   "id": "8443e26e",
   "metadata": {},
   "source": [
    "# Compute the percentile"
   ]
  },
  {
   "cell_type": "code",
   "execution_count": 125,
   "id": "30f01c71",
   "metadata": {},
   "outputs": [
    {
     "name": "stdout",
     "output_type": "stream",
     "text": [
      "4.0\n"
     ]
    }
   ],
   "source": [
    "arr=np.array([1,1,2,3,4,4,4,5,3,6,8,9])\n",
    "print(np.quantile(arr,0.5))"
   ]
  },
  {
   "cell_type": "markdown",
   "id": "ddf414fa",
   "metadata": {},
   "source": [
    "$ x^{2}+2{x}+5 $"
   ]
  },
  {
   "cell_type": "code",
   "execution_count": 130,
   "id": "639a281a",
   "metadata": {},
   "outputs": [
    {
     "name": "stdout",
     "output_type": "stream",
     "text": [
      "5 th percentile is: 1.000\n",
      "65 th percentile is: 4.150\n",
      "95 th percentile is: 8.450\n"
     ]
    }
   ],
   "source": [
    "# compute 5, 65, and 95 percentiles of the array\n",
    "l0=[5,65,95]\n",
    "l=np.percentile(arr,[5,65,95])\n",
    "for i in range(len(l)):\n",
    "    print(\"%d th percentile is: %1.3f\"%(l0[i],l[i]))"
   ]
  },
  {
   "cell_type": "markdown",
   "id": "c9080a34",
   "metadata": {},
   "source": [
    "# Compute the standard deviation & variance"
   ]
  },
  {
   "cell_type": "code",
   "execution_count": 164,
   "id": "825ebce4",
   "metadata": {},
   "outputs": [
    {
     "name": "stdout",
     "output_type": "stream",
     "text": [
      "0.8748897637790901\n"
     ]
    }
   ],
   "source": [
    "# compute the overall standard deviation\n",
    "print(np.std(arr))"
   ]
  },
  {
   "cell_type": "code",
   "execution_count": 165,
   "id": "4b742ef1",
   "metadata": {},
   "outputs": [
    {
     "name": "stdout",
     "output_type": "stream",
     "text": [
      "[0.47140452 0.         0.47140452]\n"
     ]
    }
   ],
   "source": [
    "# compute the standard deviation along the row\n",
    "print(np.std(arr,axis=0))"
   ]
  },
  {
   "cell_type": "code",
   "execution_count": 166,
   "id": "4c4ac881",
   "metadata": {},
   "outputs": [
    {
     "name": "stdout",
     "output_type": "stream",
     "text": [
      "[[3 2 2]\n",
      " [3 4 1]\n",
      " [2 1 1]]\n"
     ]
    }
   ],
   "source": [
    "arr=np.random.randint(1,5,(3,3))\n",
    "print(arr)"
   ]
  },
  {
   "cell_type": "code",
   "execution_count": 167,
   "id": "f4ba01e0",
   "metadata": {},
   "outputs": [
    {
     "name": "stdout",
     "output_type": "stream",
     "text": [
      "[0.47140452 1.24721913 0.47140452]\n"
     ]
    }
   ],
   "source": [
    "#compute the standard deviation along the col\n",
    "print((np.std(arr,axis=1)))\n"
   ]
  },
  {
   "cell_type": "code",
   "execution_count": 168,
   "id": "59a36b8c",
   "metadata": {},
   "outputs": [
    {
     "name": "stdout",
     "output_type": "stream",
     "text": [
      "0.9876543209876544\n"
     ]
    }
   ],
   "source": [
    "#compute the overall varience\n",
    "print(np.var(arr))"
   ]
  },
  {
   "cell_type": "code",
   "execution_count": 169,
   "id": "8581532c",
   "metadata": {},
   "outputs": [
    {
     "name": "stdout",
     "output_type": "stream",
     "text": [
      "[0.22222222 1.55555556 0.22222222]\n"
     ]
    }
   ],
   "source": [
    "#compute the row varience\n",
    "print(np.var(arr,axis=0))"
   ]
  },
  {
   "cell_type": "code",
   "execution_count": 170,
   "id": "bce8b422",
   "metadata": {},
   "outputs": [
    {
     "name": "stdout",
     "output_type": "stream",
     "text": [
      "[0.22222222 1.55555556 0.22222222]\n"
     ]
    }
   ],
   "source": [
    "#compute the col varience\n",
    "print(np.var(arr,axis=1))"
   ]
  },
  {
   "cell_type": "markdown",
   "id": "d5d1d83e",
   "metadata": {},
   "source": [
    "# Compute the covariance & correlation"
   ]
  },
  {
   "cell_type": "code",
   "execution_count": 171,
   "id": "f65958d7",
   "metadata": {},
   "outputs": [
    {
     "name": "stdout",
     "output_type": "stream",
     "text": [
      "[[0.33333333 0.16666667 0.33333333]\n",
      " [0.16666667 2.33333333 0.16666667]\n",
      " [0.33333333 0.16666667 0.33333333]]\n"
     ]
    }
   ],
   "source": [
    "print(np.cov(arr)) #varience covarience matrix"
   ]
  },
  {
   "cell_type": "code",
   "execution_count": 172,
   "id": "d02a03bd",
   "metadata": {},
   "outputs": [
    {
     "name": "stdout",
     "output_type": "stream",
     "text": [
      "[[1.         0.75592895]\n",
      " [0.75592895 1.        ]]\n"
     ]
    }
   ],
   "source": [
    "print(np.corrcoef(arr[:,0],arr[:,1]))"
   ]
  },
  {
   "cell_type": "markdown",
   "id": "6c6c4ba7",
   "metadata": {},
   "source": [
    "# Compute cumulative sum & product"
   ]
  },
  {
   "cell_type": "code",
   "execution_count": 178,
   "id": "47f1ae3c",
   "metadata": {},
   "outputs": [
    {
     "name": "stdout",
     "output_type": "stream",
     "text": [
      "[[3 2 2]\n",
      " [6 6 3]\n",
      " [8 7 4]]\n"
     ]
    }
   ],
   "source": [
    "# calculate the cumulative sums along the row\n",
    "print(np.cumsum(arr,axis=0))"
   ]
  },
  {
   "cell_type": "code",
   "execution_count": 179,
   "id": "028de990",
   "metadata": {},
   "outputs": [
    {
     "name": "stdout",
     "output_type": "stream",
     "text": [
      "[[3 5 7]\n",
      " [3 7 8]\n",
      " [2 3 4]]\n"
     ]
    }
   ],
   "source": [
    "#calculate the cumlative sumns along the col\n",
    "print(np.cumsum(arr,axis=1))"
   ]
  },
  {
   "cell_type": "code",
   "execution_count": 180,
   "id": "f1b5cfc5",
   "metadata": {},
   "outputs": [
    {
     "name": "stdout",
     "output_type": "stream",
     "text": [
      "[[3 2 2]\n",
      " [6 6 3]\n",
      " [8 7 4]]\n"
     ]
    }
   ],
   "source": [
    "#calculate the cumulative product along the row\n",
    "print(np.cumsum(arr,axis=0))"
   ]
  },
  {
   "cell_type": "markdown",
   "id": "8137fc37",
   "metadata": {},
   "source": [
    "# Element-wise comparison"
   ]
  },
  {
   "cell_type": "code",
   "execution_count": 184,
   "id": "c30790c8",
   "metadata": {},
   "outputs": [],
   "source": [
    "arr1=np.array([1,5,2])\n",
    "arr2=np.array([4,1,5])"
   ]
  },
  {
   "cell_type": "code",
   "execution_count": 185,
   "id": "043035ab",
   "metadata": {},
   "outputs": [
    {
     "name": "stdout",
     "output_type": "stream",
     "text": [
      "[False False False]\n"
     ]
    }
   ],
   "source": [
    "#return an array of bools\n",
    "print(arr1==arr2)"
   ]
  },
  {
   "cell_type": "code",
   "execution_count": 187,
   "id": "43383167",
   "metadata": {},
   "outputs": [
    {
     "name": "stdout",
     "output_type": "stream",
     "text": [
      "[ True False  True]\n"
     ]
    }
   ],
   "source": [
    "print(arr1<5)"
   ]
  },
  {
   "cell_type": "markdown",
   "id": "205bc6b6",
   "metadata": {},
   "source": [
    "# Slicing & Indexing"
   ]
  },
  {
   "cell_type": "code",
   "execution_count": 188,
   "id": "06766d49",
   "metadata": {},
   "outputs": [],
   "source": [
    "import numpy as np"
   ]
  },
  {
   "cell_type": "code",
   "execution_count": 192,
   "id": "8316a661",
   "metadata": {},
   "outputs": [
    {
     "name": "stdout",
     "output_type": "stream",
     "text": [
      "[[ 1  2  3  4]\n",
      " [ 5  6  7  8]\n",
      " [ 9 10 11 12]]\n"
     ]
    }
   ],
   "source": [
    "arr=np.array(range(1,13)).reshape(3,4)\n",
    "print(arr)"
   ]
  },
  {
   "cell_type": "markdown",
   "id": "53bd04ad",
   "metadata": {},
   "source": [
    "### Select an element by row and column indices"
   ]
  },
  {
   "cell_type": "code",
   "execution_count": 193,
   "id": "5b513c85",
   "metadata": {},
   "outputs": [
    {
     "name": "stdout",
     "output_type": "stream",
     "text": [
      "[[ 1  2  3  4]\n",
      " [ 5  6  7  8]\n",
      " [ 9 10 11 12]]\n",
      "7\n",
      "11\n"
     ]
    }
   ],
   "source": [
    "print(arr)\n",
    "print(arr[1][2])\n",
    "# or more concisely\n",
    "print(arr[2,2])"
   ]
  },
  {
   "cell_type": "code",
   "execution_count": 195,
   "id": "800674dd",
   "metadata": {},
   "outputs": [
    {
     "name": "stdout",
     "output_type": "stream",
     "text": [
      "[[ 1  2  3  4]\n",
      " [ 5  6  7  8]\n",
      " [ 9 10 11 12]]\n",
      "[[ 6  7  8]\n",
      " [10 11 12]]\n"
     ]
    }
   ],
   "source": [
    "print(arr)\n",
    "print(arr[1:,1:])"
   ]
  },
  {
   "cell_type": "code",
   "execution_count": 223,
   "id": "cc22d4ad",
   "metadata": {},
   "outputs": [
    {
     "name": "stdout",
     "output_type": "stream",
     "text": [
      "[[[[ 0  1]\n",
      "   [ 2  3]]\n",
      "\n",
      "  [[ 4  5]\n",
      "   [ 6  7]]]\n",
      "\n",
      "\n",
      " [[[ 8  9]\n",
      "   [10 11]]\n",
      "\n",
      "  [[12 13]\n",
      "   [14 15]]]]\n",
      "[[[ 8  9]\n",
      "  [10 11]]\n",
      "\n",
      " [[12 13]\n",
      "  [14 15]]]\n"
     ]
    }
   ],
   "source": [
    "#ellipsis slicing: auto-complete the dimensions\n",
    "arr=np.array(range(16)).reshape(2,2,2,2)\n",
    "print(arr)\n",
    "# equivalent to arr[0,:,:,:]\n",
    "print(arr[1,...])"
   ]
  },
  {
   "cell_type": "markdown",
   "id": "782e44db",
   "metadata": {},
   "source": [
    "# Assign a scalar to a slice by broadcasting"
   ]
  },
  {
   "cell_type": "code",
   "execution_count": 225,
   "id": "d49b036f",
   "metadata": {},
   "outputs": [
    {
     "name": "stdout",
     "output_type": "stream",
     "text": [
      "Original Array:\n",
      " [[[[ 0  1]\n",
      "   [ 2  3]]\n",
      "\n",
      "  [[ 4  5]\n",
      "   [ 6  7]]]\n",
      "\n",
      "\n",
      " [[[ 8  9]\n",
      "   [10 11]]\n",
      "\n",
      "  [[12 13]\n",
      "   [14 15]]]]\n",
      "New array:\n",
      " [[[[  0   1]\n",
      "   [  2   3]]\n",
      "\n",
      "  [[  4   5]\n",
      "   [  6   7]]]\n",
      "\n",
      "\n",
      " [[[100 100]\n",
      "   [100 100]]\n",
      "\n",
      "  [[100 100]\n",
      "   [100 100]]]]\n"
     ]
    }
   ],
   "source": [
    "print(\"Original Array:\\n\",arr)\n",
    "arr[1:3,:]=100 # or simply arr[1:3]\n",
    "print(\"New array:\\n\",arr)"
   ]
  },
  {
   "cell_type": "code",
   "execution_count": null,
   "id": "8c416dfe",
   "metadata": {},
   "outputs": [],
   "source": []
  },
  {
   "cell_type": "markdown",
   "id": "6015e78f",
   "metadata": {},
   "source": [
    "# Boolean Indexing"
   ]
  },
  {
   "cell_type": "code",
   "execution_count": 226,
   "id": "7589fe48",
   "metadata": {},
   "outputs": [],
   "source": [
    "arr1=np.arange(25).reshape(5,5)"
   ]
  },
  {
   "cell_type": "code",
   "execution_count": 227,
   "id": "d0616377",
   "metadata": {},
   "outputs": [
    {
     "name": "stdout",
     "output_type": "stream",
     "text": [
      "[[ 0  1  2  3  4]\n",
      " [ 5  6  7  8  9]\n",
      " [10 11 12 13 14]\n",
      " [15 16 17 18 19]\n",
      " [20 21 22 23 24]]\n"
     ]
    }
   ],
   "source": [
    "print(arr1)"
   ]
  },
  {
   "cell_type": "code",
   "execution_count": 229,
   "id": "0c3863d3",
   "metadata": {},
   "outputs": [
    {
     "data": {
      "text/plain": [
       "array([[ 0,  1,  2,  3,  4],\n",
       "       [10, 11, 12, 13, 14],\n",
       "       [20, 21, 22, 23, 24]])"
      ]
     },
     "execution_count": 229,
     "metadata": {},
     "output_type": "execute_result"
    }
   ],
   "source": [
    "list1=[True,False,True,False,True]\n",
    "arr1[list1] #print only those rows whos corresponding list elements are True"
   ]
  },
  {
   "cell_type": "code",
   "execution_count": 231,
   "id": "6b3ece56",
   "metadata": {},
   "outputs": [
    {
     "name": "stdout",
     "output_type": "stream",
     "text": [
      "[[ 0  1  2  3  4]\n",
      " [10 11 12 13 14]\n",
      " [15 16 17 18 19]]\n"
     ]
    }
   ],
   "source": [
    "list2=np.array(['M','F',\"M\",\"M\",\"F\"])\n",
    "print(arr1[list2==\"M\"])"
   ]
  },
  {
   "cell_type": "code",
   "execution_count": 232,
   "id": "6cd5af5b",
   "metadata": {},
   "outputs": [
    {
     "name": "stdout",
     "output_type": "stream",
     "text": [
      "[[ 5  6  7  8  9]\n",
      " [20 21 22 23 24]]\n"
     ]
    }
   ],
   "source": [
    "# negate the condition\n",
    "print(arr1[~(list2==\"M\")])\n",
    "#print(arr1[~bools])  "
   ]
  },
  {
   "cell_type": "markdown",
   "id": "be245b6c",
   "metadata": {},
   "source": [
    "# Fancy Indexing"
   ]
  },
  {
   "cell_type": "code",
   "execution_count": 234,
   "id": "68a6ac16",
   "metadata": {},
   "outputs": [
    {
     "data": {
      "text/plain": [
       "array([[0.08086612, 0.42139425, 0.37815804, 0.55535353, 0.37273794],\n",
       "       [0.62000401, 0.18617024, 0.23032707, 0.94960083, 0.4897838 ],\n",
       "       [0.66956398, 0.09664952, 0.54798152, 0.87213333, 0.10684084],\n",
       "       [0.69369773, 0.31894294, 0.58486889, 0.46460341, 0.63021157],\n",
       "       [0.91585374, 0.85874212, 0.45994221, 0.31573416, 0.78451334],\n",
       "       [0.71090889, 0.47896126, 0.26478509, 0.10161119, 0.58254522],\n",
       "       [0.02136428, 0.13414539, 0.84416081, 0.01509614, 0.44481843],\n",
       "       [0.34552824, 0.12147171, 0.04877384, 0.55445967, 0.46205037],\n",
       "       [0.56900672, 0.37214819, 0.86241016, 0.88056376, 0.52921303],\n",
       "       [0.6863547 , 0.91255013, 0.39467652, 0.84435059, 0.34973782]])"
      ]
     },
     "execution_count": 234,
     "metadata": {},
     "output_type": "execute_result"
    }
   ],
   "source": [
    "arr = np.random.rand(10,5)\n",
    "arr"
   ]
  },
  {
   "cell_type": "code",
   "execution_count": 236,
   "id": "593ea1bc",
   "metadata": {},
   "outputs": [
    {
     "name": "stdout",
     "output_type": "stream",
     "text": [
      "[0.18617024 0.54798152 0.63021157]\n"
     ]
    }
   ],
   "source": [
    "print(arr[[1,2,3],[1,2,4]]) #Or arr[1,1],arr[2,2],arr[3,4]"
   ]
  },
  {
   "cell_type": "code",
   "execution_count": 237,
   "id": "8e3dd1c0",
   "metadata": {},
   "outputs": [
    {
     "name": "stdout",
     "output_type": "stream",
     "text": [
      "[[0.63021157 0.58486889 0.46460341]\n",
      " [0.4897838  0.23032707 0.94960083]\n",
      " [0.10684084 0.54798152 0.87213333]]\n"
     ]
    }
   ],
   "source": [
    "# select rows 3,1,2 and columns 6,4,8 \n",
    "print(arr[[3,1,2]][:, [4,2,3]]) "
   ]
  },
  {
   "cell_type": "code",
   "execution_count": 248,
   "id": "8d3bff6e",
   "metadata": {},
   "outputs": [],
   "source": [
    "arr=np.random.randint(range(1,10)).reshape(3,3)"
   ]
  },
  {
   "cell_type": "code",
   "execution_count": 249,
   "id": "95fe3466",
   "metadata": {},
   "outputs": [
    {
     "name": "stdout",
     "output_type": "stream",
     "text": [
      "[[0 0 1]\n",
      " [3 1 1]\n",
      " [1 4 0]]\n"
     ]
    }
   ],
   "source": [
    "print(arr)"
   ]
  },
  {
   "cell_type": "code",
   "execution_count": 254,
   "id": "79fb58a1",
   "metadata": {},
   "outputs": [
    {
     "data": {
      "text/plain": [
       "array([[0, 1],\n",
       "       [1, 0]])"
      ]
     },
     "execution_count": 254,
     "metadata": {},
     "output_type": "execute_result"
    }
   ],
   "source": [
    "arr[[0,2]][:,[0,2]]"
   ]
  },
  {
   "cell_type": "markdown",
   "id": "7de740c9",
   "metadata": {},
   "source": [
    "# Dimension inference"
   ]
  },
  {
   "cell_type": "code",
   "execution_count": 262,
   "id": "b805b931",
   "metadata": {},
   "outputs": [],
   "source": [
    "# dimension inference using any negative number (usually -1)\n",
    "arr=np.array(range(16)).reshape(4,-1)\n"
   ]
  },
  {
   "cell_type": "code",
   "execution_count": 263,
   "id": "f4f83892",
   "metadata": {},
   "outputs": [
    {
     "name": "stdout",
     "output_type": "stream",
     "text": [
      "[[ 0  1  2  3]\n",
      " [ 4  5  6  7]\n",
      " [ 8  9 10 11]\n",
      " [12 13 14 15]]\n"
     ]
    }
   ],
   "source": [
    "print(arr)"
   ]
  },
  {
   "cell_type": "code",
   "execution_count": null,
   "id": "31558af8",
   "metadata": {},
   "outputs": [],
   "source": []
  }
 ],
 "metadata": {
  "kernelspec": {
   "display_name": "Python 3",
   "language": "python",
   "name": "python3"
  },
  "language_info": {
   "codemirror_mode": {
    "name": "ipython",
    "version": 3
   },
   "file_extension": ".py",
   "mimetype": "text/x-python",
   "name": "python",
   "nbconvert_exporter": "python",
   "pygments_lexer": "ipython3",
   "version": "3.8.8"
  }
 },
 "nbformat": 4,
 "nbformat_minor": 5
}
