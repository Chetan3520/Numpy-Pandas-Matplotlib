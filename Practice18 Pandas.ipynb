{
 "cells": [
  {
   "cell_type": "markdown",
   "id": "4950edf8",
   "metadata": {},
   "source": [
    "# To find/Set our Working directory "
   ]
  },
  {
   "cell_type": "code",
   "execution_count": 3,
   "id": "032b2093",
   "metadata": {},
   "outputs": [
    {
     "data": {
      "text/plain": [
       "'C:\\\\Users\\\\DELL\\\\Downloads\\\\mynumpy'"
      ]
     },
     "execution_count": 3,
     "metadata": {},
     "output_type": "execute_result"
    }
   ],
   "source": [
    "pwd #finding working directory"
   ]
  },
  {
   "cell_type": "markdown",
   "id": "b10d3061",
   "metadata": {},
   "source": [
    "## OR"
   ]
  },
  {
   "cell_type": "code",
   "execution_count": 4,
   "id": "1a866a99",
   "metadata": {},
   "outputs": [
    {
     "data": {
      "text/plain": [
       "'C:\\\\Users\\\\DELL\\\\Downloads\\\\mynumpy'"
      ]
     },
     "execution_count": 4,
     "metadata": {},
     "output_type": "execute_result"
    }
   ],
   "source": [
    "import os\n",
    "os.getcwd() #get current working directory.\n"
   ]
  },
  {
   "cell_type": "code",
   "execution_count": 5,
   "id": "361f4c2b",
   "metadata": {},
   "outputs": [],
   "source": [
    "#Change directory os.chdir(\"C:\\\\Users\\\\DELL\\\\Downloads\\\\mynumpy\")"
   ]
  },
  {
   "cell_type": "code",
   "execution_count": null,
   "id": "e10d598f",
   "metadata": {},
   "outputs": [],
   "source": []
  },
  {
   "cell_type": "markdown",
   "id": "6e5a170d",
   "metadata": {},
   "source": [
    "# Importing CSV datafile Using Pandas"
   ]
  },
  {
   "cell_type": "code",
   "execution_count": 6,
   "id": "9130fcd3",
   "metadata": {},
   "outputs": [],
   "source": [
    "import pandas as pd\n",
    "df=pd.read_csv(\"C:\\\\Users\\\\DELL\\\\OneDrive\\\\Documents\\\\CSV.csv\")\n"
   ]
  },
  {
   "cell_type": "code",
   "execution_count": 7,
   "id": "ac0833df",
   "metadata": {},
   "outputs": [
    {
     "data": {
      "text/plain": [
       "Index(['Share ', 'Prices', 'rank'], dtype='object')"
      ]
     },
     "execution_count": 7,
     "metadata": {},
     "output_type": "execute_result"
    }
   ],
   "source": [
    "df.columns"
   ]
  },
  {
   "cell_type": "code",
   "execution_count": 8,
   "id": "5c6b48dd",
   "metadata": {},
   "outputs": [
    {
     "data": {
      "text/html": [
       "<div>\n",
       "<style scoped>\n",
       "    .dataframe tbody tr th:only-of-type {\n",
       "        vertical-align: middle;\n",
       "    }\n",
       "\n",
       "    .dataframe tbody tr th {\n",
       "        vertical-align: top;\n",
       "    }\n",
       "\n",
       "    .dataframe thead th {\n",
       "        text-align: right;\n",
       "    }\n",
       "</style>\n",
       "<table border=\"1\" class=\"dataframe\">\n",
       "  <thead>\n",
       "    <tr style=\"text-align: right;\">\n",
       "      <th></th>\n",
       "      <th>Share</th>\n",
       "    </tr>\n",
       "  </thead>\n",
       "  <tbody>\n",
       "    <tr>\n",
       "      <th>0</th>\n",
       "      <td>Tata motors</td>\n",
       "    </tr>\n",
       "    <tr>\n",
       "      <th>1</th>\n",
       "      <td>Reliance</td>\n",
       "    </tr>\n",
       "    <tr>\n",
       "      <th>2</th>\n",
       "      <td>Bajaj</td>\n",
       "    </tr>\n",
       "    <tr>\n",
       "      <th>3</th>\n",
       "      <td>Jain Irrigation</td>\n",
       "    </tr>\n",
       "    <tr>\n",
       "      <th>4</th>\n",
       "      <td>TCS</td>\n",
       "    </tr>\n",
       "    <tr>\n",
       "      <th>5</th>\n",
       "      <td>Zensar</td>\n",
       "    </tr>\n",
       "    <tr>\n",
       "      <th>6</th>\n",
       "      <td>Ford</td>\n",
       "    </tr>\n",
       "    <tr>\n",
       "      <th>7</th>\n",
       "      <td>Goggle</td>\n",
       "    </tr>\n",
       "    <tr>\n",
       "      <th>8</th>\n",
       "      <td>Tesla</td>\n",
       "    </tr>\n",
       "    <tr>\n",
       "      <th>9</th>\n",
       "      <td>Microsoft</td>\n",
       "    </tr>\n",
       "    <tr>\n",
       "      <th>10</th>\n",
       "      <td>Apple</td>\n",
       "    </tr>\n",
       "    <tr>\n",
       "      <th>11</th>\n",
       "      <td>NaN</td>\n",
       "    </tr>\n",
       "    <tr>\n",
       "      <th>12</th>\n",
       "      <td>Oppo</td>\n",
       "    </tr>\n",
       "    <tr>\n",
       "      <th>13</th>\n",
       "      <td>Amazon</td>\n",
       "    </tr>\n",
       "    <tr>\n",
       "      <th>14</th>\n",
       "      <td>TCS</td>\n",
       "    </tr>\n",
       "  </tbody>\n",
       "</table>\n",
       "</div>"
      ],
      "text/plain": [
       "             Share \n",
       "0       Tata motors\n",
       "1          Reliance\n",
       "2             Bajaj\n",
       "3   Jain Irrigation\n",
       "4               TCS\n",
       "5            Zensar\n",
       "6              Ford\n",
       "7            Goggle\n",
       "8             Tesla\n",
       "9         Microsoft\n",
       "10            Apple\n",
       "11              NaN\n",
       "12             Oppo\n",
       "13           Amazon\n",
       "14              TCS"
      ]
     },
     "execution_count": 8,
     "metadata": {},
     "output_type": "execute_result"
    }
   ],
   "source": [
    "df[['Share ']]\n"
   ]
  },
  {
   "cell_type": "code",
   "execution_count": 9,
   "id": "fc3338e5",
   "metadata": {},
   "outputs": [
    {
     "data": {
      "text/html": [
       "<div>\n",
       "<style scoped>\n",
       "    .dataframe tbody tr th:only-of-type {\n",
       "        vertical-align: middle;\n",
       "    }\n",
       "\n",
       "    .dataframe tbody tr th {\n",
       "        vertical-align: top;\n",
       "    }\n",
       "\n",
       "    .dataframe thead th {\n",
       "        text-align: right;\n",
       "    }\n",
       "</style>\n",
       "<table border=\"1\" class=\"dataframe\">\n",
       "  <thead>\n",
       "    <tr style=\"text-align: right;\">\n",
       "      <th></th>\n",
       "      <th>Share</th>\n",
       "      <th>Prices</th>\n",
       "      <th>rank</th>\n",
       "    </tr>\n",
       "  </thead>\n",
       "  <tbody>\n",
       "    <tr>\n",
       "      <th>0</th>\n",
       "      <td>Tata motors</td>\n",
       "      <td>1121.0</td>\n",
       "      <td>1.0</td>\n",
       "    </tr>\n",
       "    <tr>\n",
       "      <th>1</th>\n",
       "      <td>Reliance</td>\n",
       "      <td>2000.0</td>\n",
       "      <td>2.0</td>\n",
       "    </tr>\n",
       "    <tr>\n",
       "      <th>2</th>\n",
       "      <td>Bajaj</td>\n",
       "      <td>4500.0</td>\n",
       "      <td>3.0</td>\n",
       "    </tr>\n",
       "    <tr>\n",
       "      <th>3</th>\n",
       "      <td>Jain Irrigation</td>\n",
       "      <td>25.0</td>\n",
       "      <td>4.0</td>\n",
       "    </tr>\n",
       "    <tr>\n",
       "      <th>4</th>\n",
       "      <td>TCS</td>\n",
       "      <td>2100.0</td>\n",
       "      <td>5.0</td>\n",
       "    </tr>\n",
       "    <tr>\n",
       "      <th>5</th>\n",
       "      <td>Zensar</td>\n",
       "      <td>250.0</td>\n",
       "      <td>6.0</td>\n",
       "    </tr>\n",
       "    <tr>\n",
       "      <th>6</th>\n",
       "      <td>Ford</td>\n",
       "      <td>8000.0</td>\n",
       "      <td>7.0</td>\n",
       "    </tr>\n",
       "    <tr>\n",
       "      <th>7</th>\n",
       "      <td>Goggle</td>\n",
       "      <td>50000.0</td>\n",
       "      <td>8.0</td>\n",
       "    </tr>\n",
       "    <tr>\n",
       "      <th>8</th>\n",
       "      <td>Tesla</td>\n",
       "      <td>10000.0</td>\n",
       "      <td>9.0</td>\n",
       "    </tr>\n",
       "    <tr>\n",
       "      <th>9</th>\n",
       "      <td>Microsoft</td>\n",
       "      <td>150000.0</td>\n",
       "      <td>10.0</td>\n",
       "    </tr>\n",
       "    <tr>\n",
       "      <th>10</th>\n",
       "      <td>Apple</td>\n",
       "      <td>15000.0</td>\n",
       "      <td>11.0</td>\n",
       "    </tr>\n",
       "    <tr>\n",
       "      <th>11</th>\n",
       "      <td>NaN</td>\n",
       "      <td>NaN</td>\n",
       "      <td>NaN</td>\n",
       "    </tr>\n",
       "    <tr>\n",
       "      <th>12</th>\n",
       "      <td>Oppo</td>\n",
       "      <td>1008.0</td>\n",
       "      <td>13.0</td>\n",
       "    </tr>\n",
       "    <tr>\n",
       "      <th>13</th>\n",
       "      <td>Amazon</td>\n",
       "      <td>15000.0</td>\n",
       "      <td>14.0</td>\n",
       "    </tr>\n",
       "    <tr>\n",
       "      <th>14</th>\n",
       "      <td>TCS</td>\n",
       "      <td>1344.0</td>\n",
       "      <td>15.0</td>\n",
       "    </tr>\n",
       "  </tbody>\n",
       "</table>\n",
       "</div>"
      ],
      "text/plain": [
       "             Share     Prices  rank\n",
       "0       Tata motors    1121.0   1.0\n",
       "1          Reliance    2000.0   2.0\n",
       "2             Bajaj    4500.0   3.0\n",
       "3   Jain Irrigation      25.0   4.0\n",
       "4               TCS    2100.0   5.0\n",
       "5            Zensar     250.0   6.0\n",
       "6              Ford    8000.0   7.0\n",
       "7            Goggle   50000.0   8.0\n",
       "8             Tesla   10000.0   9.0\n",
       "9         Microsoft  150000.0  10.0\n",
       "10            Apple   15000.0  11.0\n",
       "11              NaN       NaN   NaN\n",
       "12             Oppo    1008.0  13.0\n",
       "13           Amazon   15000.0  14.0\n",
       "14              TCS    1344.0  15.0"
      ]
     },
     "execution_count": 9,
     "metadata": {},
     "output_type": "execute_result"
    }
   ],
   "source": [
    "df\n",
    "\n"
   ]
  },
  {
   "cell_type": "code",
   "execution_count": 10,
   "id": "ffe0dfcf",
   "metadata": {},
   "outputs": [
    {
     "name": "stdout",
     "output_type": "stream",
     "text": [
      "150000.0\n"
     ]
    }
   ],
   "source": [
    "t=df[\"Prices\"].max()\n",
    "print(t)"
   ]
  },
  {
   "cell_type": "code",
   "execution_count": 11,
   "id": "fab1ef72",
   "metadata": {},
   "outputs": [
    {
     "data": {
      "text/plain": [
       "18596.285714285714"
      ]
     },
     "execution_count": 11,
     "metadata": {},
     "output_type": "execute_result"
    }
   ],
   "source": [
    "df[\"Prices\"].mean()\n"
   ]
  },
  {
   "cell_type": "markdown",
   "id": "6c14b929",
   "metadata": {},
   "source": [
    "# OR"
   ]
  },
  {
   "cell_type": "code",
   "execution_count": 12,
   "id": "a315e7cc",
   "metadata": {},
   "outputs": [
    {
     "name": "stdout",
     "output_type": "stream",
     "text": [
      "150000.0\n",
      "18596.285714285714\n"
     ]
    }
   ],
   "source": [
    "t=df[\"Prices\"]\n",
    "print(t.max())\n",
    "print(t.mean())"
   ]
  },
  {
   "cell_type": "code",
   "execution_count": 13,
   "id": "288c4171",
   "metadata": {},
   "outputs": [],
   "source": [
    "import pandas as pd\n",
    "df1=pd.read_csv(\"C:\\\\Users\\\\DELL\\\\OneDrive\\\\Desktop\\Sample_data.csv\")"
   ]
  },
  {
   "cell_type": "markdown",
   "id": "029a25f8",
   "metadata": {},
   "source": [
    "# Accessing Rows from DataFrame"
   ]
  },
  {
   "cell_type": "code",
   "execution_count": 14,
   "id": "6e01b04b",
   "metadata": {},
   "outputs": [
    {
     "data": {
      "text/html": [
       "<div>\n",
       "<style scoped>\n",
       "    .dataframe tbody tr th:only-of-type {\n",
       "        vertical-align: middle;\n",
       "    }\n",
       "\n",
       "    .dataframe tbody tr th {\n",
       "        vertical-align: top;\n",
       "    }\n",
       "\n",
       "    .dataframe thead th {\n",
       "        text-align: right;\n",
       "    }\n",
       "</style>\n",
       "<table border=\"1\" class=\"dataframe\">\n",
       "  <thead>\n",
       "    <tr style=\"text-align: right;\">\n",
       "      <th></th>\n",
       "      <th>Region</th>\n",
       "      <th>Country</th>\n",
       "      <th>Item Type</th>\n",
       "      <th>Sales Channel</th>\n",
       "      <th>Order Priority</th>\n",
       "      <th>Order Date</th>\n",
       "      <th>Order ID</th>\n",
       "      <th>Ship Date</th>\n",
       "      <th>Units Sold</th>\n",
       "      <th>Unit Price</th>\n",
       "      <th>Unit Cost</th>\n",
       "      <th>Total Revenue</th>\n",
       "      <th>Total Cost</th>\n",
       "      <th>Total Profit</th>\n",
       "    </tr>\n",
       "  </thead>\n",
       "  <tbody>\n",
       "    <tr>\n",
       "      <th>0</th>\n",
       "      <td>Australia and Oceania</td>\n",
       "      <td>Tuvalu</td>\n",
       "      <td>Baby Food</td>\n",
       "      <td>Offline</td>\n",
       "      <td>H</td>\n",
       "      <td>28-05-2010</td>\n",
       "      <td>669165933</td>\n",
       "      <td>27-06-2010</td>\n",
       "      <td>9925</td>\n",
       "      <td>255.28</td>\n",
       "      <td>159.42</td>\n",
       "      <td>2533654.00</td>\n",
       "      <td>1582243.50</td>\n",
       "      <td>951410.50</td>\n",
       "    </tr>\n",
       "    <tr>\n",
       "      <th>1</th>\n",
       "      <td>Central America and the Caribbean</td>\n",
       "      <td>Grenada</td>\n",
       "      <td>Cereal</td>\n",
       "      <td>Online</td>\n",
       "      <td>C</td>\n",
       "      <td>22-08-2012</td>\n",
       "      <td>963881480</td>\n",
       "      <td>15-09-2012</td>\n",
       "      <td>2804</td>\n",
       "      <td>205.70</td>\n",
       "      <td>117.11</td>\n",
       "      <td>576782.80</td>\n",
       "      <td>328376.44</td>\n",
       "      <td>248406.36</td>\n",
       "    </tr>\n",
       "    <tr>\n",
       "      <th>2</th>\n",
       "      <td>Europe</td>\n",
       "      <td>Russia</td>\n",
       "      <td>Office Supplies</td>\n",
       "      <td>Offline</td>\n",
       "      <td>L</td>\n",
       "      <td>02-05-2014</td>\n",
       "      <td>341417157</td>\n",
       "      <td>08-05-2014</td>\n",
       "      <td>1779</td>\n",
       "      <td>651.21</td>\n",
       "      <td>524.96</td>\n",
       "      <td>1158502.59</td>\n",
       "      <td>933903.84</td>\n",
       "      <td>224598.75</td>\n",
       "    </tr>\n",
       "    <tr>\n",
       "      <th>3</th>\n",
       "      <td>Sub-Saharan Africa</td>\n",
       "      <td>Sao Tome and Principe</td>\n",
       "      <td>Fruits</td>\n",
       "      <td>Online</td>\n",
       "      <td>C</td>\n",
       "      <td>20-06-2014</td>\n",
       "      <td>514321792</td>\n",
       "      <td>05-07-2014</td>\n",
       "      <td>8102</td>\n",
       "      <td>9.33</td>\n",
       "      <td>6.92</td>\n",
       "      <td>75591.66</td>\n",
       "      <td>56065.84</td>\n",
       "      <td>19525.82</td>\n",
       "    </tr>\n",
       "    <tr>\n",
       "      <th>4</th>\n",
       "      <td>Sub-Saharan Africa</td>\n",
       "      <td>Rwanda</td>\n",
       "      <td>Office Supplies</td>\n",
       "      <td>Offline</td>\n",
       "      <td>L</td>\n",
       "      <td>01-02-2013</td>\n",
       "      <td>115456712</td>\n",
       "      <td>06-02-2013</td>\n",
       "      <td>5062</td>\n",
       "      <td>651.21</td>\n",
       "      <td>524.96</td>\n",
       "      <td>3296425.02</td>\n",
       "      <td>2657347.52</td>\n",
       "      <td>639077.50</td>\n",
       "    </tr>\n",
       "  </tbody>\n",
       "</table>\n",
       "</div>"
      ],
      "text/plain": [
       "                              Region                Country        Item Type  \\\n",
       "0              Australia and Oceania                 Tuvalu        Baby Food   \n",
       "1  Central America and the Caribbean                Grenada           Cereal   \n",
       "2                             Europe                 Russia  Office Supplies   \n",
       "3                 Sub-Saharan Africa  Sao Tome and Principe           Fruits   \n",
       "4                 Sub-Saharan Africa                 Rwanda  Office Supplies   \n",
       "\n",
       "  Sales Channel Order Priority  Order Date   Order ID   Ship Date  Units Sold  \\\n",
       "0       Offline              H  28-05-2010  669165933  27-06-2010        9925   \n",
       "1        Online              C  22-08-2012  963881480  15-09-2012        2804   \n",
       "2       Offline              L  02-05-2014  341417157  08-05-2014        1779   \n",
       "3        Online              C  20-06-2014  514321792  05-07-2014        8102   \n",
       "4       Offline              L  01-02-2013  115456712  06-02-2013        5062   \n",
       "\n",
       "   Unit Price  Unit Cost  Total Revenue  Total Cost  Total Profit  \n",
       "0      255.28     159.42     2533654.00  1582243.50     951410.50  \n",
       "1      205.70     117.11      576782.80   328376.44     248406.36  \n",
       "2      651.21     524.96     1158502.59   933903.84     224598.75  \n",
       "3        9.33       6.92       75591.66    56065.84      19525.82  \n",
       "4      651.21     524.96     3296425.02  2657347.52     639077.50  "
      ]
     },
     "execution_count": 14,
     "metadata": {},
     "output_type": "execute_result"
    }
   ],
   "source": [
    "df1.head()"
   ]
  },
  {
   "cell_type": "code",
   "execution_count": 15,
   "id": "2f93aa48",
   "metadata": {},
   "outputs": [
    {
     "data": {
      "text/html": [
       "<div>\n",
       "<style scoped>\n",
       "    .dataframe tbody tr th:only-of-type {\n",
       "        vertical-align: middle;\n",
       "    }\n",
       "\n",
       "    .dataframe tbody tr th {\n",
       "        vertical-align: top;\n",
       "    }\n",
       "\n",
       "    .dataframe thead th {\n",
       "        text-align: right;\n",
       "    }\n",
       "</style>\n",
       "<table border=\"1\" class=\"dataframe\">\n",
       "  <thead>\n",
       "    <tr style=\"text-align: right;\">\n",
       "      <th></th>\n",
       "      <th>Region</th>\n",
       "      <th>Country</th>\n",
       "      <th>Item Type</th>\n",
       "      <th>Sales Channel</th>\n",
       "      <th>Order Priority</th>\n",
       "      <th>Order Date</th>\n",
       "      <th>Order ID</th>\n",
       "      <th>Ship Date</th>\n",
       "      <th>Units Sold</th>\n",
       "      <th>Unit Price</th>\n",
       "      <th>Unit Cost</th>\n",
       "      <th>Total Revenue</th>\n",
       "      <th>Total Cost</th>\n",
       "      <th>Total Profit</th>\n",
       "    </tr>\n",
       "  </thead>\n",
       "  <tbody>\n",
       "    <tr>\n",
       "      <th>98</th>\n",
       "      <td>North America</td>\n",
       "      <td>Mexico</td>\n",
       "      <td>Personal Care</td>\n",
       "      <td>Offline</td>\n",
       "      <td>M</td>\n",
       "      <td>30-07-2015</td>\n",
       "      <td>559427106</td>\n",
       "      <td>08-08-2015</td>\n",
       "      <td>5767</td>\n",
       "      <td>81.73</td>\n",
       "      <td>56.67</td>\n",
       "      <td>471336.91</td>\n",
       "      <td>326815.89</td>\n",
       "      <td>144521.02</td>\n",
       "    </tr>\n",
       "    <tr>\n",
       "      <th>99</th>\n",
       "      <td>Sub-Saharan Africa</td>\n",
       "      <td>Mozambique</td>\n",
       "      <td>Household</td>\n",
       "      <td>Offline</td>\n",
       "      <td>L</td>\n",
       "      <td>10-02-2012</td>\n",
       "      <td>665095412</td>\n",
       "      <td>15-02-2012</td>\n",
       "      <td>5367</td>\n",
       "      <td>668.27</td>\n",
       "      <td>502.54</td>\n",
       "      <td>3586605.09</td>\n",
       "      <td>2697132.18</td>\n",
       "      <td>889472.91</td>\n",
       "    </tr>\n",
       "  </tbody>\n",
       "</table>\n",
       "</div>"
      ],
      "text/plain": [
       "                Region     Country      Item Type Sales Channel  \\\n",
       "98       North America      Mexico  Personal Care       Offline   \n",
       "99  Sub-Saharan Africa  Mozambique      Household       Offline   \n",
       "\n",
       "   Order Priority  Order Date   Order ID   Ship Date  Units Sold  Unit Price  \\\n",
       "98              M  30-07-2015  559427106  08-08-2015        5767       81.73   \n",
       "99              L  10-02-2012  665095412  15-02-2012        5367      668.27   \n",
       "\n",
       "    Unit Cost  Total Revenue  Total Cost  Total Profit  \n",
       "98      56.67      471336.91   326815.89     144521.02  \n",
       "99     502.54     3586605.09  2697132.18     889472.91  "
      ]
     },
     "execution_count": 15,
     "metadata": {},
     "output_type": "execute_result"
    }
   ],
   "source": [
    "\n",
    "df1.tail(2) #Argument passed gives no. of rows as passed argument (here it is 2)\n"
   ]
  },
  {
   "cell_type": "code",
   "execution_count": 16,
   "id": "18eb99b6",
   "metadata": {},
   "outputs": [
    {
     "data": {
      "text/html": [
       "<div>\n",
       "<style scoped>\n",
       "    .dataframe tbody tr th:only-of-type {\n",
       "        vertical-align: middle;\n",
       "    }\n",
       "\n",
       "    .dataframe tbody tr th {\n",
       "        vertical-align: top;\n",
       "    }\n",
       "\n",
       "    .dataframe thead th {\n",
       "        text-align: right;\n",
       "    }\n",
       "</style>\n",
       "<table border=\"1\" class=\"dataframe\">\n",
       "  <thead>\n",
       "    <tr style=\"text-align: right;\">\n",
       "      <th></th>\n",
       "      <th>Region</th>\n",
       "      <th>Country</th>\n",
       "      <th>Item Type</th>\n",
       "      <th>Sales Channel</th>\n",
       "      <th>Order Priority</th>\n",
       "      <th>Order Date</th>\n",
       "      <th>Order ID</th>\n",
       "      <th>Ship Date</th>\n",
       "      <th>Units Sold</th>\n",
       "      <th>Unit Price</th>\n",
       "      <th>Unit Cost</th>\n",
       "      <th>Total Revenue</th>\n",
       "      <th>Total Cost</th>\n",
       "      <th>Total Profit</th>\n",
       "    </tr>\n",
       "  </thead>\n",
       "  <tbody>\n",
       "    <tr>\n",
       "      <th>45</th>\n",
       "      <td>Sub-Saharan Africa</td>\n",
       "      <td>Comoros</td>\n",
       "      <td>Cereal</td>\n",
       "      <td>Offline</td>\n",
       "      <td>H</td>\n",
       "      <td>29-03-2016</td>\n",
       "      <td>902102267</td>\n",
       "      <td>29-04-2016</td>\n",
       "      <td>962</td>\n",
       "      <td>205.70</td>\n",
       "      <td>117.11</td>\n",
       "      <td>197883.40</td>\n",
       "      <td>112659.82</td>\n",
       "      <td>85223.58</td>\n",
       "    </tr>\n",
       "    <tr>\n",
       "      <th>46</th>\n",
       "      <td>Europe</td>\n",
       "      <td>Iceland</td>\n",
       "      <td>Cosmetics</td>\n",
       "      <td>Online</td>\n",
       "      <td>C</td>\n",
       "      <td>31-12-2016</td>\n",
       "      <td>331438481</td>\n",
       "      <td>31-12-2016</td>\n",
       "      <td>8867</td>\n",
       "      <td>437.20</td>\n",
       "      <td>263.33</td>\n",
       "      <td>3876652.40</td>\n",
       "      <td>2334947.11</td>\n",
       "      <td>1541705.29</td>\n",
       "    </tr>\n",
       "    <tr>\n",
       "      <th>47</th>\n",
       "      <td>Europe</td>\n",
       "      <td>Switzerland</td>\n",
       "      <td>Personal Care</td>\n",
       "      <td>Online</td>\n",
       "      <td>M</td>\n",
       "      <td>23-12-2010</td>\n",
       "      <td>617667090</td>\n",
       "      <td>31-01-2011</td>\n",
       "      <td>273</td>\n",
       "      <td>81.73</td>\n",
       "      <td>56.67</td>\n",
       "      <td>22312.29</td>\n",
       "      <td>15470.91</td>\n",
       "      <td>6841.38</td>\n",
       "    </tr>\n",
       "    <tr>\n",
       "      <th>48</th>\n",
       "      <td>Europe</td>\n",
       "      <td>Macedonia</td>\n",
       "      <td>Clothes</td>\n",
       "      <td>Offline</td>\n",
       "      <td>C</td>\n",
       "      <td>14-10-2014</td>\n",
       "      <td>787399423</td>\n",
       "      <td>14-11-2014</td>\n",
       "      <td>7842</td>\n",
       "      <td>109.28</td>\n",
       "      <td>35.84</td>\n",
       "      <td>856973.76</td>\n",
       "      <td>281057.28</td>\n",
       "      <td>575916.48</td>\n",
       "    </tr>\n",
       "    <tr>\n",
       "      <th>49</th>\n",
       "      <td>Sub-Saharan Africa</td>\n",
       "      <td>Mauritania</td>\n",
       "      <td>Office Supplies</td>\n",
       "      <td>Offline</td>\n",
       "      <td>C</td>\n",
       "      <td>11-01-2012</td>\n",
       "      <td>837559306</td>\n",
       "      <td>13-01-2012</td>\n",
       "      <td>1266</td>\n",
       "      <td>651.21</td>\n",
       "      <td>524.96</td>\n",
       "      <td>824431.86</td>\n",
       "      <td>664599.36</td>\n",
       "      <td>159832.50</td>\n",
       "    </tr>\n",
       "  </tbody>\n",
       "</table>\n",
       "</div>"
      ],
      "text/plain": [
       "                Region      Country        Item Type Sales Channel  \\\n",
       "45  Sub-Saharan Africa      Comoros           Cereal       Offline   \n",
       "46              Europe      Iceland        Cosmetics        Online   \n",
       "47              Europe  Switzerland    Personal Care        Online   \n",
       "48              Europe    Macedonia          Clothes       Offline   \n",
       "49  Sub-Saharan Africa   Mauritania  Office Supplies       Offline   \n",
       "\n",
       "   Order Priority  Order Date   Order ID   Ship Date  Units Sold  Unit Price  \\\n",
       "45              H  29-03-2016  902102267  29-04-2016         962      205.70   \n",
       "46              C  31-12-2016  331438481  31-12-2016        8867      437.20   \n",
       "47              M  23-12-2010  617667090  31-01-2011         273       81.73   \n",
       "48              C  14-10-2014  787399423  14-11-2014        7842      109.28   \n",
       "49              C  11-01-2012  837559306  13-01-2012        1266      651.21   \n",
       "\n",
       "    Unit Cost  Total Revenue  Total Cost  Total Profit  \n",
       "45     117.11      197883.40   112659.82      85223.58  \n",
       "46     263.33     3876652.40  2334947.11    1541705.29  \n",
       "47      56.67       22312.29    15470.91       6841.38  \n",
       "48      35.84      856973.76   281057.28     575916.48  \n",
       "49     524.96      824431.86   664599.36     159832.50  "
      ]
     },
     "execution_count": 16,
     "metadata": {},
     "output_type": "execute_result"
    }
   ],
   "source": [
    "df1[45:50]"
   ]
  },
  {
   "cell_type": "code",
   "execution_count": 17,
   "id": "a2595c6a",
   "metadata": {},
   "outputs": [
    {
     "data": {
      "text/plain": [
       "(100, 14)"
      ]
     },
     "execution_count": 17,
     "metadata": {},
     "output_type": "execute_result"
    }
   ],
   "source": [
    "df1.shape  #shape is tuple which gives numbers dimentions in the gives arry"
   ]
  },
  {
   "cell_type": "code",
   "execution_count": 18,
   "id": "cc5a4493",
   "metadata": {},
   "outputs": [],
   "source": [
    "rows,columns = df1.shape #we just assign the values of 100 to rows and 14 to columns"
   ]
  },
  {
   "cell_type": "code",
   "execution_count": 19,
   "id": "1231a4ea",
   "metadata": {},
   "outputs": [
    {
     "data": {
      "text/plain": [
       "100"
      ]
     },
     "execution_count": 19,
     "metadata": {},
     "output_type": "execute_result"
    }
   ],
   "source": [
    "rows"
   ]
  },
  {
   "cell_type": "code",
   "execution_count": 20,
   "id": "6ffad3e6",
   "metadata": {},
   "outputs": [
    {
     "data": {
      "text/plain": [
       "14"
      ]
     },
     "execution_count": 20,
     "metadata": {},
     "output_type": "execute_result"
    }
   ],
   "source": [
    "columns"
   ]
  },
  {
   "cell_type": "code",
   "execution_count": 21,
   "id": "edaeb38d",
   "metadata": {},
   "outputs": [
    {
     "data": {
      "text/plain": [
       "Index(['Region', 'Country', 'Item Type', 'Sales Channel', 'Order Priority',\n",
       "       'Order Date', 'Order ID', 'Ship Date', 'Units Sold', 'Unit Price',\n",
       "       'Unit Cost', 'Total Revenue', 'Total Cost', 'Total Profit'],\n",
       "      dtype='object')"
      ]
     },
     "execution_count": 21,
     "metadata": {},
     "output_type": "execute_result"
    }
   ],
   "source": [
    "df1.columns\n"
   ]
  },
  {
   "cell_type": "markdown",
   "id": "fa8edecb",
   "metadata": {},
   "source": [
    "# Columns Accessing from DataFrame"
   ]
  },
  {
   "cell_type": "code",
   "execution_count": 22,
   "id": "45d8adce",
   "metadata": {},
   "outputs": [
    {
     "data": {
      "text/html": [
       "<div>\n",
       "<style scoped>\n",
       "    .dataframe tbody tr th:only-of-type {\n",
       "        vertical-align: middle;\n",
       "    }\n",
       "\n",
       "    .dataframe tbody tr th {\n",
       "        vertical-align: top;\n",
       "    }\n",
       "\n",
       "    .dataframe thead th {\n",
       "        text-align: right;\n",
       "    }\n",
       "</style>\n",
       "<table border=\"1\" class=\"dataframe\">\n",
       "  <thead>\n",
       "    <tr style=\"text-align: right;\">\n",
       "      <th></th>\n",
       "      <th>Country</th>\n",
       "      <th>Item Type</th>\n",
       "    </tr>\n",
       "  </thead>\n",
       "  <tbody>\n",
       "    <tr>\n",
       "      <th>0</th>\n",
       "      <td>Tuvalu</td>\n",
       "      <td>Baby Food</td>\n",
       "    </tr>\n",
       "    <tr>\n",
       "      <th>1</th>\n",
       "      <td>Grenada</td>\n",
       "      <td>Cereal</td>\n",
       "    </tr>\n",
       "    <tr>\n",
       "      <th>2</th>\n",
       "      <td>Russia</td>\n",
       "      <td>Office Supplies</td>\n",
       "    </tr>\n",
       "    <tr>\n",
       "      <th>3</th>\n",
       "      <td>Sao Tome and Principe</td>\n",
       "      <td>Fruits</td>\n",
       "    </tr>\n",
       "    <tr>\n",
       "      <th>4</th>\n",
       "      <td>Rwanda</td>\n",
       "      <td>Office Supplies</td>\n",
       "    </tr>\n",
       "    <tr>\n",
       "      <th>...</th>\n",
       "      <td>...</td>\n",
       "      <td>...</td>\n",
       "    </tr>\n",
       "    <tr>\n",
       "      <th>95</th>\n",
       "      <td>Mali</td>\n",
       "      <td>Clothes</td>\n",
       "    </tr>\n",
       "    <tr>\n",
       "      <th>96</th>\n",
       "      <td>Malaysia</td>\n",
       "      <td>Fruits</td>\n",
       "    </tr>\n",
       "    <tr>\n",
       "      <th>97</th>\n",
       "      <td>Sierra Leone</td>\n",
       "      <td>Vegetables</td>\n",
       "    </tr>\n",
       "    <tr>\n",
       "      <th>98</th>\n",
       "      <td>Mexico</td>\n",
       "      <td>Personal Care</td>\n",
       "    </tr>\n",
       "    <tr>\n",
       "      <th>99</th>\n",
       "      <td>Mozambique</td>\n",
       "      <td>Household</td>\n",
       "    </tr>\n",
       "  </tbody>\n",
       "</table>\n",
       "<p>100 rows × 2 columns</p>\n",
       "</div>"
      ],
      "text/plain": [
       "                  Country        Item Type\n",
       "0                  Tuvalu        Baby Food\n",
       "1                 Grenada           Cereal\n",
       "2                  Russia  Office Supplies\n",
       "3   Sao Tome and Principe           Fruits\n",
       "4                  Rwanda  Office Supplies\n",
       "..                    ...              ...\n",
       "95                   Mali          Clothes\n",
       "96               Malaysia           Fruits\n",
       "97           Sierra Leone       Vegetables\n",
       "98                 Mexico    Personal Care\n",
       "99             Mozambique        Household\n",
       "\n",
       "[100 rows x 2 columns]"
      ]
     },
     "execution_count": 22,
     "metadata": {},
     "output_type": "execute_result"
    }
   ],
   "source": [
    "df1[['Country','Item Type']]  "
   ]
  },
  {
   "cell_type": "code",
   "execution_count": 23,
   "id": "47b856b6",
   "metadata": {},
   "outputs": [
    {
     "data": {
      "text/plain": [
       "668.27"
      ]
     },
     "execution_count": 23,
     "metadata": {},
     "output_type": "execute_result"
    }
   ],
   "source": [
    "df1['Unit Price'].max()\n"
   ]
  },
  {
   "cell_type": "code",
   "execution_count": 24,
   "id": "27b965ce",
   "metadata": {},
   "outputs": [
    {
     "data": {
      "text/plain": [
       "276.76130000000006"
      ]
     },
     "execution_count": 24,
     "metadata": {},
     "output_type": "execute_result"
    }
   ],
   "source": [
    "df1['Unit Price'].mean()\n"
   ]
  },
  {
   "cell_type": "code",
   "execution_count": 25,
   "id": "a873c285",
   "metadata": {},
   "outputs": [
    {
     "data": {
      "text/plain": [
       "235.59224058433128"
      ]
     },
     "execution_count": 25,
     "metadata": {},
     "output_type": "execute_result"
    }
   ],
   "source": [
    "df1['Unit Price'].std()"
   ]
  },
  {
   "cell_type": "code",
   "execution_count": 26,
   "id": "978e2133",
   "metadata": {},
   "outputs": [
    {
     "data": {
      "text/plain": [
       "count    100.000000\n",
       "mean     276.761300\n",
       "std      235.592241\n",
       "min        9.330000\n",
       "25%       81.730000\n",
       "50%      179.880000\n",
       "75%      437.200000\n",
       "max      668.270000\n",
       "Name: Unit Price, dtype: float64"
      ]
     },
     "execution_count": 26,
     "metadata": {},
     "output_type": "execute_result"
    }
   ],
   "source": [
    "df1['Unit Price'].describe()"
   ]
  },
  {
   "cell_type": "markdown",
   "id": "a866cf4e",
   "metadata": {},
   "source": [
    "# Accesing rows for  Condition of Perticular column."
   ]
  },
  {
   "cell_type": "code",
   "execution_count": 27,
   "id": "522da0c7",
   "metadata": {},
   "outputs": [
    {
     "data": {
      "text/html": [
       "<div>\n",
       "<style scoped>\n",
       "    .dataframe tbody tr th:only-of-type {\n",
       "        vertical-align: middle;\n",
       "    }\n",
       "\n",
       "    .dataframe tbody tr th {\n",
       "        vertical-align: top;\n",
       "    }\n",
       "\n",
       "    .dataframe thead th {\n",
       "        text-align: right;\n",
       "    }\n",
       "</style>\n",
       "<table border=\"1\" class=\"dataframe\">\n",
       "  <thead>\n",
       "    <tr style=\"text-align: right;\">\n",
       "      <th></th>\n",
       "      <th>Region</th>\n",
       "      <th>Country</th>\n",
       "      <th>Item Type</th>\n",
       "      <th>Sales Channel</th>\n",
       "      <th>Order Priority</th>\n",
       "      <th>Order Date</th>\n",
       "      <th>Order ID</th>\n",
       "      <th>Ship Date</th>\n",
       "      <th>Units Sold</th>\n",
       "      <th>Unit Price</th>\n",
       "      <th>Unit Cost</th>\n",
       "      <th>Total Revenue</th>\n",
       "      <th>Total Cost</th>\n",
       "      <th>Total Profit</th>\n",
       "    </tr>\n",
       "  </thead>\n",
       "  <tbody>\n",
       "    <tr>\n",
       "      <th>6</th>\n",
       "      <td>Sub-Saharan Africa</td>\n",
       "      <td>Angola</td>\n",
       "      <td>Household</td>\n",
       "      <td>Offline</td>\n",
       "      <td>M</td>\n",
       "      <td>23-04-2011</td>\n",
       "      <td>135425221</td>\n",
       "      <td>27-04-2011</td>\n",
       "      <td>4187</td>\n",
       "      <td>668.27</td>\n",
       "      <td>502.54</td>\n",
       "      <td>2798046.49</td>\n",
       "      <td>2104134.98</td>\n",
       "      <td>693911.51</td>\n",
       "    </tr>\n",
       "    <tr>\n",
       "      <th>13</th>\n",
       "      <td>Central America and the Caribbean</td>\n",
       "      <td>Honduras</td>\n",
       "      <td>Household</td>\n",
       "      <td>Offline</td>\n",
       "      <td>H</td>\n",
       "      <td>08-02-2017</td>\n",
       "      <td>522840487</td>\n",
       "      <td>13-02-2017</td>\n",
       "      <td>8974</td>\n",
       "      <td>668.27</td>\n",
       "      <td>502.54</td>\n",
       "      <td>5997054.98</td>\n",
       "      <td>4509793.96</td>\n",
       "      <td>1487261.02</td>\n",
       "    </tr>\n",
       "    <tr>\n",
       "      <th>18</th>\n",
       "      <td>Asia</td>\n",
       "      <td>Turkmenistan</td>\n",
       "      <td>Household</td>\n",
       "      <td>Offline</td>\n",
       "      <td>L</td>\n",
       "      <td>30-12-2010</td>\n",
       "      <td>441619336</td>\n",
       "      <td>20-01-2011</td>\n",
       "      <td>3830</td>\n",
       "      <td>668.27</td>\n",
       "      <td>502.54</td>\n",
       "      <td>2559474.10</td>\n",
       "      <td>1924728.20</td>\n",
       "      <td>634745.90</td>\n",
       "    </tr>\n",
       "    <tr>\n",
       "      <th>29</th>\n",
       "      <td>Sub-Saharan Africa</td>\n",
       "      <td>The Gambia</td>\n",
       "      <td>Household</td>\n",
       "      <td>Offline</td>\n",
       "      <td>L</td>\n",
       "      <td>26-05-2012</td>\n",
       "      <td>886494815</td>\n",
       "      <td>09-06-2012</td>\n",
       "      <td>2370</td>\n",
       "      <td>668.27</td>\n",
       "      <td>502.54</td>\n",
       "      <td>1583799.90</td>\n",
       "      <td>1191019.80</td>\n",
       "      <td>392780.10</td>\n",
       "    </tr>\n",
       "    <tr>\n",
       "      <th>33</th>\n",
       "      <td>Asia</td>\n",
       "      <td>Myanmar</td>\n",
       "      <td>Household</td>\n",
       "      <td>Offline</td>\n",
       "      <td>H</td>\n",
       "      <td>16-01-2015</td>\n",
       "      <td>177713572</td>\n",
       "      <td>01-03-2015</td>\n",
       "      <td>8250</td>\n",
       "      <td>668.27</td>\n",
       "      <td>502.54</td>\n",
       "      <td>5513227.50</td>\n",
       "      <td>4145955.00</td>\n",
       "      <td>1367272.50</td>\n",
       "    </tr>\n",
       "    <tr>\n",
       "      <th>58</th>\n",
       "      <td>Europe</td>\n",
       "      <td>United Kingdom</td>\n",
       "      <td>Household</td>\n",
       "      <td>Online</td>\n",
       "      <td>L</td>\n",
       "      <td>05-01-2012</td>\n",
       "      <td>955357205</td>\n",
       "      <td>14-02-2012</td>\n",
       "      <td>282</td>\n",
       "      <td>668.27</td>\n",
       "      <td>502.54</td>\n",
       "      <td>188452.14</td>\n",
       "      <td>141716.28</td>\n",
       "      <td>46735.86</td>\n",
       "    </tr>\n",
       "    <tr>\n",
       "      <th>75</th>\n",
       "      <td>North America</td>\n",
       "      <td>Mexico</td>\n",
       "      <td>Household</td>\n",
       "      <td>Offline</td>\n",
       "      <td>C</td>\n",
       "      <td>06-11-2014</td>\n",
       "      <td>986435210</td>\n",
       "      <td>12-12-2014</td>\n",
       "      <td>6954</td>\n",
       "      <td>668.27</td>\n",
       "      <td>502.54</td>\n",
       "      <td>4647149.58</td>\n",
       "      <td>3494663.16</td>\n",
       "      <td>1152486.42</td>\n",
       "    </tr>\n",
       "    <tr>\n",
       "      <th>80</th>\n",
       "      <td>Europe</td>\n",
       "      <td>Spain</td>\n",
       "      <td>Household</td>\n",
       "      <td>Offline</td>\n",
       "      <td>L</td>\n",
       "      <td>21-10-2012</td>\n",
       "      <td>213487374</td>\n",
       "      <td>30-11-2012</td>\n",
       "      <td>4513</td>\n",
       "      <td>668.27</td>\n",
       "      <td>502.54</td>\n",
       "      <td>3015902.51</td>\n",
       "      <td>2267963.02</td>\n",
       "      <td>747939.49</td>\n",
       "    </tr>\n",
       "    <tr>\n",
       "      <th>99</th>\n",
       "      <td>Sub-Saharan Africa</td>\n",
       "      <td>Mozambique</td>\n",
       "      <td>Household</td>\n",
       "      <td>Offline</td>\n",
       "      <td>L</td>\n",
       "      <td>10-02-2012</td>\n",
       "      <td>665095412</td>\n",
       "      <td>15-02-2012</td>\n",
       "      <td>5367</td>\n",
       "      <td>668.27</td>\n",
       "      <td>502.54</td>\n",
       "      <td>3586605.09</td>\n",
       "      <td>2697132.18</td>\n",
       "      <td>889472.91</td>\n",
       "    </tr>\n",
       "  </tbody>\n",
       "</table>\n",
       "</div>"
      ],
      "text/plain": [
       "                               Region         Country  Item Type  \\\n",
       "6                  Sub-Saharan Africa          Angola  Household   \n",
       "13  Central America and the Caribbean        Honduras  Household   \n",
       "18                               Asia    Turkmenistan  Household   \n",
       "29                 Sub-Saharan Africa      The Gambia  Household   \n",
       "33                               Asia         Myanmar  Household   \n",
       "58                             Europe  United Kingdom  Household   \n",
       "75                      North America          Mexico  Household   \n",
       "80                             Europe           Spain  Household   \n",
       "99                 Sub-Saharan Africa      Mozambique  Household   \n",
       "\n",
       "   Sales Channel Order Priority  Order Date   Order ID   Ship Date  \\\n",
       "6        Offline              M  23-04-2011  135425221  27-04-2011   \n",
       "13       Offline              H  08-02-2017  522840487  13-02-2017   \n",
       "18       Offline              L  30-12-2010  441619336  20-01-2011   \n",
       "29       Offline              L  26-05-2012  886494815  09-06-2012   \n",
       "33       Offline              H  16-01-2015  177713572  01-03-2015   \n",
       "58        Online              L  05-01-2012  955357205  14-02-2012   \n",
       "75       Offline              C  06-11-2014  986435210  12-12-2014   \n",
       "80       Offline              L  21-10-2012  213487374  30-11-2012   \n",
       "99       Offline              L  10-02-2012  665095412  15-02-2012   \n",
       "\n",
       "    Units Sold  Unit Price  Unit Cost  Total Revenue  Total Cost  Total Profit  \n",
       "6         4187      668.27     502.54     2798046.49  2104134.98     693911.51  \n",
       "13        8974      668.27     502.54     5997054.98  4509793.96    1487261.02  \n",
       "18        3830      668.27     502.54     2559474.10  1924728.20     634745.90  \n",
       "29        2370      668.27     502.54     1583799.90  1191019.80     392780.10  \n",
       "33        8250      668.27     502.54     5513227.50  4145955.00    1367272.50  \n",
       "58         282      668.27     502.54      188452.14   141716.28      46735.86  \n",
       "75        6954      668.27     502.54     4647149.58  3494663.16    1152486.42  \n",
       "80        4513      668.27     502.54     3015902.51  2267963.02     747939.49  \n",
       "99        5367      668.27     502.54     3586605.09  2697132.18     889472.91  "
      ]
     },
     "execution_count": 27,
     "metadata": {},
     "output_type": "execute_result"
    }
   ],
   "source": [
    "df1[df1['Unit Price']>668] #print the rows where unit prices are greater than 650\n",
    " "
   ]
  },
  {
   "cell_type": "code",
   "execution_count": 28,
   "id": "4f80c133",
   "metadata": {},
   "outputs": [
    {
     "data": {
      "text/html": [
       "<div>\n",
       "<style scoped>\n",
       "    .dataframe tbody tr th:only-of-type {\n",
       "        vertical-align: middle;\n",
       "    }\n",
       "\n",
       "    .dataframe tbody tr th {\n",
       "        vertical-align: top;\n",
       "    }\n",
       "\n",
       "    .dataframe thead th {\n",
       "        text-align: right;\n",
       "    }\n",
       "</style>\n",
       "<table border=\"1\" class=\"dataframe\">\n",
       "  <thead>\n",
       "    <tr style=\"text-align: right;\">\n",
       "      <th></th>\n",
       "      <th>Region</th>\n",
       "      <th>Country</th>\n",
       "      <th>Item Type</th>\n",
       "      <th>Sales Channel</th>\n",
       "      <th>Order Priority</th>\n",
       "      <th>Order Date</th>\n",
       "      <th>Order ID</th>\n",
       "      <th>Ship Date</th>\n",
       "      <th>Units Sold</th>\n",
       "      <th>Unit Price</th>\n",
       "      <th>Unit Cost</th>\n",
       "      <th>Total Revenue</th>\n",
       "      <th>Total Cost</th>\n",
       "      <th>Total Profit</th>\n",
       "    </tr>\n",
       "  </thead>\n",
       "  <tbody>\n",
       "    <tr>\n",
       "      <th>6</th>\n",
       "      <td>Sub-Saharan Africa</td>\n",
       "      <td>Angola</td>\n",
       "      <td>Household</td>\n",
       "      <td>Offline</td>\n",
       "      <td>M</td>\n",
       "      <td>23-04-2011</td>\n",
       "      <td>135425221</td>\n",
       "      <td>27-04-2011</td>\n",
       "      <td>4187</td>\n",
       "      <td>668.27</td>\n",
       "      <td>502.54</td>\n",
       "      <td>2798046.49</td>\n",
       "      <td>2104134.98</td>\n",
       "      <td>693911.51</td>\n",
       "    </tr>\n",
       "    <tr>\n",
       "      <th>13</th>\n",
       "      <td>Central America and the Caribbean</td>\n",
       "      <td>Honduras</td>\n",
       "      <td>Household</td>\n",
       "      <td>Offline</td>\n",
       "      <td>H</td>\n",
       "      <td>08-02-2017</td>\n",
       "      <td>522840487</td>\n",
       "      <td>13-02-2017</td>\n",
       "      <td>8974</td>\n",
       "      <td>668.27</td>\n",
       "      <td>502.54</td>\n",
       "      <td>5997054.98</td>\n",
       "      <td>4509793.96</td>\n",
       "      <td>1487261.02</td>\n",
       "    </tr>\n",
       "    <tr>\n",
       "      <th>18</th>\n",
       "      <td>Asia</td>\n",
       "      <td>Turkmenistan</td>\n",
       "      <td>Household</td>\n",
       "      <td>Offline</td>\n",
       "      <td>L</td>\n",
       "      <td>30-12-2010</td>\n",
       "      <td>441619336</td>\n",
       "      <td>20-01-2011</td>\n",
       "      <td>3830</td>\n",
       "      <td>668.27</td>\n",
       "      <td>502.54</td>\n",
       "      <td>2559474.10</td>\n",
       "      <td>1924728.20</td>\n",
       "      <td>634745.90</td>\n",
       "    </tr>\n",
       "    <tr>\n",
       "      <th>29</th>\n",
       "      <td>Sub-Saharan Africa</td>\n",
       "      <td>The Gambia</td>\n",
       "      <td>Household</td>\n",
       "      <td>Offline</td>\n",
       "      <td>L</td>\n",
       "      <td>26-05-2012</td>\n",
       "      <td>886494815</td>\n",
       "      <td>09-06-2012</td>\n",
       "      <td>2370</td>\n",
       "      <td>668.27</td>\n",
       "      <td>502.54</td>\n",
       "      <td>1583799.90</td>\n",
       "      <td>1191019.80</td>\n",
       "      <td>392780.10</td>\n",
       "    </tr>\n",
       "    <tr>\n",
       "      <th>33</th>\n",
       "      <td>Asia</td>\n",
       "      <td>Myanmar</td>\n",
       "      <td>Household</td>\n",
       "      <td>Offline</td>\n",
       "      <td>H</td>\n",
       "      <td>16-01-2015</td>\n",
       "      <td>177713572</td>\n",
       "      <td>01-03-2015</td>\n",
       "      <td>8250</td>\n",
       "      <td>668.27</td>\n",
       "      <td>502.54</td>\n",
       "      <td>5513227.50</td>\n",
       "      <td>4145955.00</td>\n",
       "      <td>1367272.50</td>\n",
       "    </tr>\n",
       "    <tr>\n",
       "      <th>58</th>\n",
       "      <td>Europe</td>\n",
       "      <td>United Kingdom</td>\n",
       "      <td>Household</td>\n",
       "      <td>Online</td>\n",
       "      <td>L</td>\n",
       "      <td>05-01-2012</td>\n",
       "      <td>955357205</td>\n",
       "      <td>14-02-2012</td>\n",
       "      <td>282</td>\n",
       "      <td>668.27</td>\n",
       "      <td>502.54</td>\n",
       "      <td>188452.14</td>\n",
       "      <td>141716.28</td>\n",
       "      <td>46735.86</td>\n",
       "    </tr>\n",
       "    <tr>\n",
       "      <th>75</th>\n",
       "      <td>North America</td>\n",
       "      <td>Mexico</td>\n",
       "      <td>Household</td>\n",
       "      <td>Offline</td>\n",
       "      <td>C</td>\n",
       "      <td>06-11-2014</td>\n",
       "      <td>986435210</td>\n",
       "      <td>12-12-2014</td>\n",
       "      <td>6954</td>\n",
       "      <td>668.27</td>\n",
       "      <td>502.54</td>\n",
       "      <td>4647149.58</td>\n",
       "      <td>3494663.16</td>\n",
       "      <td>1152486.42</td>\n",
       "    </tr>\n",
       "    <tr>\n",
       "      <th>80</th>\n",
       "      <td>Europe</td>\n",
       "      <td>Spain</td>\n",
       "      <td>Household</td>\n",
       "      <td>Offline</td>\n",
       "      <td>L</td>\n",
       "      <td>21-10-2012</td>\n",
       "      <td>213487374</td>\n",
       "      <td>30-11-2012</td>\n",
       "      <td>4513</td>\n",
       "      <td>668.27</td>\n",
       "      <td>502.54</td>\n",
       "      <td>3015902.51</td>\n",
       "      <td>2267963.02</td>\n",
       "      <td>747939.49</td>\n",
       "    </tr>\n",
       "    <tr>\n",
       "      <th>99</th>\n",
       "      <td>Sub-Saharan Africa</td>\n",
       "      <td>Mozambique</td>\n",
       "      <td>Household</td>\n",
       "      <td>Offline</td>\n",
       "      <td>L</td>\n",
       "      <td>10-02-2012</td>\n",
       "      <td>665095412</td>\n",
       "      <td>15-02-2012</td>\n",
       "      <td>5367</td>\n",
       "      <td>668.27</td>\n",
       "      <td>502.54</td>\n",
       "      <td>3586605.09</td>\n",
       "      <td>2697132.18</td>\n",
       "      <td>889472.91</td>\n",
       "    </tr>\n",
       "  </tbody>\n",
       "</table>\n",
       "</div>"
      ],
      "text/plain": [
       "                               Region         Country  Item Type  \\\n",
       "6                  Sub-Saharan Africa          Angola  Household   \n",
       "13  Central America and the Caribbean        Honduras  Household   \n",
       "18                               Asia    Turkmenistan  Household   \n",
       "29                 Sub-Saharan Africa      The Gambia  Household   \n",
       "33                               Asia         Myanmar  Household   \n",
       "58                             Europe  United Kingdom  Household   \n",
       "75                      North America          Mexico  Household   \n",
       "80                             Europe           Spain  Household   \n",
       "99                 Sub-Saharan Africa      Mozambique  Household   \n",
       "\n",
       "   Sales Channel Order Priority  Order Date   Order ID   Ship Date  \\\n",
       "6        Offline              M  23-04-2011  135425221  27-04-2011   \n",
       "13       Offline              H  08-02-2017  522840487  13-02-2017   \n",
       "18       Offline              L  30-12-2010  441619336  20-01-2011   \n",
       "29       Offline              L  26-05-2012  886494815  09-06-2012   \n",
       "33       Offline              H  16-01-2015  177713572  01-03-2015   \n",
       "58        Online              L  05-01-2012  955357205  14-02-2012   \n",
       "75       Offline              C  06-11-2014  986435210  12-12-2014   \n",
       "80       Offline              L  21-10-2012  213487374  30-11-2012   \n",
       "99       Offline              L  10-02-2012  665095412  15-02-2012   \n",
       "\n",
       "    Units Sold  Unit Price  Unit Cost  Total Revenue  Total Cost  Total Profit  \n",
       "6         4187      668.27     502.54     2798046.49  2104134.98     693911.51  \n",
       "13        8974      668.27     502.54     5997054.98  4509793.96    1487261.02  \n",
       "18        3830      668.27     502.54     2559474.10  1924728.20     634745.90  \n",
       "29        2370      668.27     502.54     1583799.90  1191019.80     392780.10  \n",
       "33        8250      668.27     502.54     5513227.50  4145955.00    1367272.50  \n",
       "58         282      668.27     502.54      188452.14   141716.28      46735.86  \n",
       "75        6954      668.27     502.54     4647149.58  3494663.16    1152486.42  \n",
       "80        4513      668.27     502.54     3015902.51  2267963.02     747939.49  \n",
       "99        5367      668.27     502.54     3586605.09  2697132.18     889472.91  "
      ]
     },
     "execution_count": 28,
     "metadata": {},
     "output_type": "execute_result"
    }
   ],
   "source": [
    "df1[df1['Unit Price']==df1['Unit Price'].max()] "
   ]
  },
  {
   "cell_type": "code",
   "execution_count": null,
   "id": "22376e12",
   "metadata": {},
   "outputs": [],
   "source": [
    "df1[df1['Country']=='Spain']"
   ]
  },
  {
   "cell_type": "markdown",
   "id": "3d28113e",
   "metadata": {},
   "source": [
    "# We can also make data frame as follows"
   ]
  },
  {
   "cell_type": "code",
   "execution_count": 1,
   "id": "dc14cd1f",
   "metadata": {},
   "outputs": [
    {
     "data": {
      "text/html": [
       "<div>\n",
       "<style scoped>\n",
       "    .dataframe tbody tr th:only-of-type {\n",
       "        vertical-align: middle;\n",
       "    }\n",
       "\n",
       "    .dataframe tbody tr th {\n",
       "        vertical-align: top;\n",
       "    }\n",
       "\n",
       "    .dataframe thead th {\n",
       "        text-align: right;\n",
       "    }\n",
       "</style>\n",
       "<table border=\"1\" class=\"dataframe\">\n",
       "  <thead>\n",
       "    <tr style=\"text-align: right;\">\n",
       "      <th></th>\n",
       "      <th>days</th>\n",
       "      <th>working hours</th>\n",
       "      <th>Gender</th>\n",
       "    </tr>\n",
       "  </thead>\n",
       "  <tbody>\n",
       "    <tr>\n",
       "      <th>0</th>\n",
       "      <td>monday</td>\n",
       "      <td>6</td>\n",
       "      <td>M</td>\n",
       "    </tr>\n",
       "    <tr>\n",
       "      <th>1</th>\n",
       "      <td>tuesday</td>\n",
       "      <td>8</td>\n",
       "      <td>F</td>\n",
       "    </tr>\n",
       "    <tr>\n",
       "      <th>2</th>\n",
       "      <td>wed</td>\n",
       "      <td>9</td>\n",
       "      <td>M</td>\n",
       "    </tr>\n",
       "    <tr>\n",
       "      <th>3</th>\n",
       "      <td>thursday</td>\n",
       "      <td>2</td>\n",
       "      <td>M</td>\n",
       "    </tr>\n",
       "    <tr>\n",
       "      <th>4</th>\n",
       "      <td>friday</td>\n",
       "      <td>1</td>\n",
       "      <td>M</td>\n",
       "    </tr>\n",
       "    <tr>\n",
       "      <th>5</th>\n",
       "      <td>saturday</td>\n",
       "      <td>10</td>\n",
       "      <td>F</td>\n",
       "    </tr>\n",
       "    <tr>\n",
       "      <th>6</th>\n",
       "      <td>sunday</td>\n",
       "      <td>7</td>\n",
       "      <td>F</td>\n",
       "    </tr>\n",
       "  </tbody>\n",
       "</table>\n",
       "</div>"
      ],
      "text/plain": [
       "       days  working hours Gender\n",
       "0    monday              6      M\n",
       "1   tuesday              8      F\n",
       "2       wed              9      M\n",
       "3  thursday              2      M\n",
       "4    friday              1      M\n",
       "5  saturday             10      F\n",
       "6    sunday              7      F"
      ]
     },
     "execution_count": 1,
     "metadata": {},
     "output_type": "execute_result"
    }
   ],
   "source": [
    "import pandas as pd\n",
    "data={\n",
    "    'days':['monday','tuesday','wed','thursday','friday','saturday','sunday'],\n",
    "    'working hours':[6,8,9,2,1,10,7],\n",
    "    'Gender':['M','F','M','M','M','F','F']    \n",
    "}\n",
    "df2=pd.DataFrame(data)\n",
    "df2"
   ]
  },
  {
   "cell_type": "code",
   "execution_count": 3,
   "id": "c443d920",
   "metadata": {},
   "outputs": [],
   "source": [
    "df2.to_csv('data_new.csv')\n"
   ]
  },
  {
   "cell_type": "code",
   "execution_count": null,
   "id": "d63a4b70",
   "metadata": {},
   "outputs": [],
   "source": [
    "df2[df2['working hours']<=3]\n"
   ]
  },
  {
   "cell_type": "markdown",
   "id": "933d2b17",
   "metadata": {},
   "source": [
    "# Importing Excel file(xlsx) file Using Pandas"
   ]
  },
  {
   "cell_type": "markdown",
   "id": "44e235f6",
   "metadata": {},
   "source": [
    "#### syntax:pd.read_excel(r\"path of file.xlsx\",\"sheet name\" )"
   ]
  },
  {
   "cell_type": "markdown",
   "id": "6e2bdafa",
   "metadata": {},
   "source": [
    "#### r: for read mode"
   ]
  },
  {
   "cell_type": "code",
   "execution_count": null,
   "id": "13ccf7fb",
   "metadata": {},
   "outputs": [],
   "source": [
    "import pandas as pd\n",
    "df3=pd.read_excel(\"C:\\\\Users\\\\DELL\\\\OneDrive\\\\Documents\\\\Tutorial10.xlsx\",\"Statistics Function\") \n",
    "df3\n"
   ]
  },
  {
   "cell_type": "markdown",
   "id": "aa5ff52e",
   "metadata": {},
   "source": [
    "# Read \\ Write CSV"
   ]
  },
  {
   "cell_type": "code",
   "execution_count": null,
   "id": "051c7631",
   "metadata": {},
   "outputs": [],
   "source": [
    "dframe=pd.read_csv(r\"C:\\Users\\DELL\\OneDrive\\Desktop\\Sample_data-DESKTOP-H49BBNK.csv\")"
   ]
  },
  {
   "cell_type": "code",
   "execution_count": null,
   "id": "a17f8676",
   "metadata": {},
   "outputs": [],
   "source": [
    "dframe.head(3)"
   ]
  },
  {
   "cell_type": "code",
   "execution_count": null,
   "id": "a45f788d",
   "metadata": {},
   "outputs": [],
   "source": [
    "d=pd.read_csv(r\"C:\\Users\\DELL\\OneDrive\\Desktop\\Book2.csv\")"
   ]
  },
  {
   "cell_type": "code",
   "execution_count": null,
   "id": "683c6d59",
   "metadata": {},
   "outputs": [],
   "source": [
    "d\n"
   ]
  },
  {
   "cell_type": "code",
   "execution_count": null,
   "id": "3eae2ebd",
   "metadata": {},
   "outputs": [],
   "source": [
    "import pandas as pd\n",
    "d=pd.read_csv(r\"C:\\Users\\DELL\\OneDrive\\Desktop\\Book2.csv\")\n",
    "d\n"
   ]
  },
  {
   "cell_type": "markdown",
   "id": "21fa9778",
   "metadata": {},
   "source": [
    "## When you want to skips rows in the data frame while reading data frame."
   ]
  },
  {
   "cell_type": "code",
   "execution_count": null,
   "id": "85ce6f76",
   "metadata": {},
   "outputs": [],
   "source": [
    "d=pd.read_csv(r\"C:\\Users\\DELL\\OneDrive\\Desktop\\Book2.csv\",skiprows=1)"
   ]
  },
  {
   "cell_type": "code",
   "execution_count": null,
   "id": "2d5401c6",
   "metadata": {},
   "outputs": [],
   "source": [
    "d"
   ]
  },
  {
   "cell_type": "markdown",
   "id": "3ca6e6a6",
   "metadata": {},
   "source": [
    "# To Remove headers of the DataFrame`"
   ]
  },
  {
   "cell_type": "code",
   "execution_count": null,
   "id": "d1f8a3bf",
   "metadata": {},
   "outputs": [],
   "source": [
    "d=pd.read_csv(r\"C:\\Users\\DELL\\OneDrive\\Desktop\\Book2.csv\",skiprows=1,header=None)"
   ]
  },
  {
   "cell_type": "code",
   "execution_count": null,
   "id": "b228faf6",
   "metadata": {},
   "outputs": [],
   "source": [
    "d.head()"
   ]
  },
  {
   "cell_type": "markdown",
   "id": "d65f2e0f",
   "metadata": {},
   "source": [
    "# To give the names to headers`"
   ]
  },
  {
   "cell_type": "code",
   "execution_count": null,
   "id": "b9748ef2",
   "metadata": {},
   "outputs": [],
   "source": [
    "import pandas as pd\n",
    "d=pd.read_csv(r\"C:\\Users\\DELL\\OneDrive\\Desktop\\Book2.csv\",names=['Friends','Special days','Remarks'],nrows=2 )\n",
    "d\n",
    "#nrows=2 :for printing two rows of data frame."
   ]
  },
  {
   "cell_type": "markdown",
   "id": "ed3c217f",
   "metadata": {},
   "source": [
    "# Convert missing values Or dissatisfactary values to the NaN for whole data"
   ]
  },
  {
   "cell_type": "code",
   "execution_count": null,
   "id": "e49fcb71",
   "metadata": {},
   "outputs": [],
   "source": [
    "d1=pd.read_csv(r\"C:\\Users\\DELL\\OneDrive\\Desktop\\Book2.csv\")\n",
    "d=pd.read_csv(r\"C:\\Users\\DELL\\OneDrive\\Desktop\\Book2.csv\",na_values=['n.a.',-99999,-88888]) #converted \"Snow and 12 into NaN\"\n",
    "pd.concat([d1,d],axis=1)\n",
    "#We can check the changes in the dataframes after using na_values."
   ]
  },
  {
   "cell_type": "markdown",
   "id": "035fa488",
   "metadata": {},
   "source": [
    "# Convert missing values Or dissatisfactary values to the NaN for perticuler column"
   ]
  },
  {
   "cell_type": "code",
   "execution_count": null,
   "id": "b91a44cc",
   "metadata": {},
   "outputs": [],
   "source": [
    "d.columns #Tip: while performing action on columns necessary to access names of all columns."
   ]
  },
  {
   "cell_type": "code",
   "execution_count": null,
   "id": "dbfbc3b5",
   "metadata": {},
   "outputs": [],
   "source": [
    "\n",
    "d=pd.read_csv(r\"C:\\Users\\DELL\\OneDrive\\Desktop\\Book2.csv\",na_values={\n",
    "    'Days': ['n.a.','Sun'],\n",
    "    'Name ':['n.a.','Nikita']\n",
    "})\n",
    "d"
   ]
  },
  {
   "cell_type": "markdown",
   "id": "09972e98",
   "metadata": {},
   "source": [
    "# Write CSV"
   ]
  },
  {
   "cell_type": "code",
   "execution_count": null,
   "id": "bc7e4327",
   "metadata": {},
   "outputs": [],
   "source": [
    "d.to_csv('new.csv') #It will save in the working directory :-   'C:\\\\Users\\\\DELL\\\\Downloads\\\\mynumpy'\n"
   ]
  },
  {
   "cell_type": "code",
   "execution_count": null,
   "id": "eee3b14f",
   "metadata": {},
   "outputs": [],
   "source": [
    "pwd #to get path of the working Directory."
   ]
  },
  {
   "cell_type": "markdown",
   "id": "7e87b27d",
   "metadata": {},
   "source": [
    "## to remove index"
   ]
  },
  {
   "cell_type": "code",
   "execution_count": null,
   "id": "83b3451e",
   "metadata": {},
   "outputs": [],
   "source": [
    "d.to_csv(\"new.csv\",index=False)"
   ]
  },
  {
   "cell_type": "code",
   "execution_count": null,
   "id": "3d68495a",
   "metadata": {},
   "outputs": [],
   "source": [
    "d.columns"
   ]
  },
  {
   "cell_type": "code",
   "execution_count": null,
   "id": "20c59b7b",
   "metadata": {},
   "outputs": [],
   "source": [
    "d.to_csv(\"new1.csv\",columns=['Name ', 'Days']) #Only two columns will save in the file.  "
   ]
  },
  {
   "cell_type": "code",
   "execution_count": null,
   "id": "e8144d58",
   "metadata": {},
   "outputs": [],
   "source": []
  },
  {
   "cell_type": "code",
   "execution_count": null,
   "id": "64e17bf1",
   "metadata": {},
   "outputs": [],
   "source": []
  },
  {
   "cell_type": "markdown",
   "id": "4e1e98fc",
   "metadata": {},
   "source": [
    "# Write Excel"
   ]
  },
  {
   "cell_type": "code",
   "execution_count": null,
   "id": "0e7d8dcd",
   "metadata": {},
   "outputs": [],
   "source": [
    "data=pd.read_excel(r\"C:\\Users\\DELL\\Downloads\\file.xlsx\")\n",
    "data\n"
   ]
  },
  {
   "cell_type": "markdown",
   "id": "5013e1a0",
   "metadata": {},
   "source": [
    "# Modifying and writing Excel "
   ]
  },
  {
   "cell_type": "code",
   "execution_count": null,
   "id": "2f4853f9",
   "metadata": {},
   "outputs": [],
   "source": [
    "data.columns"
   ]
  },
  {
   "cell_type": "code",
   "execution_count": null,
   "id": "4e1fa51d",
   "metadata": {},
   "outputs": [],
   "source": [
    "def convert_empid(cell):\n",
    "    if cell==10:\n",
    "        return \"change\"\n",
    "    return cell\n",
    "def convert_name(cell):\n",
    "    if cell=='ABC':\n",
    "        return 'Saggy'\n",
    "    return(cell)\n",
    "data=pd.read_excel(r\"C:\\Users\\DELL\\Downloads\\file.xlsx\",converters={\n",
    "    \"NAME\":convert_name,\n",
    "    \"EMPID\":convert_empid\n",
    "    \n",
    "})\n",
    "data"
   ]
  },
  {
   "cell_type": "code",
   "execution_count": null,
   "id": "6a801db7",
   "metadata": {},
   "outputs": [],
   "source": [
    "data.to_excel(\"new.xlsx\",sheet_name='Employees',startrow=1,startcol=3) #change sheet name and start dataframe from row1 and col3"
   ]
  },
  {
   "cell_type": "code",
   "execution_count": null,
   "id": "2f0068b4",
   "metadata": {},
   "outputs": [],
   "source": [
    "pd.read_excel(\"new.xlsx\") #above operation we can observed in the data."
   ]
  },
  {
   "cell_type": "markdown",
   "id": "b392d40b",
   "metadata": {},
   "source": [
    "## Two data frames save(Write) in one file and in different Sheets"
   ]
  },
  {
   "cell_type": "code",
   "execution_count": null,
   "id": "631880ef",
   "metadata": {},
   "outputs": [],
   "source": [
    "with pd.Excelwriter('Stock_Employee.xlsx'):\n",
    "    df3.to_excel(Excelwriter,sheet_name='Stock')\n",
    "    dframe.to_excel(Excelwriter,sheet_name='Employee')"
   ]
  },
  {
   "cell_type": "markdown",
   "id": "84f75571",
   "metadata": {},
   "source": [
    "# 1)fillna to fill missing values using different ways"
   ]
  },
  {
   "cell_type": "code",
   "execution_count": null,
   "id": "60b30079",
   "metadata": {},
   "outputs": [],
   "source": [
    "D=pd.read_csv(r\"C:\\Users\\DELL\\OneDrive\\Desktop\\Book2.csv\")\n",
    "D\n",
    "t=D.Day[0]#To Access Perticular Element from perticuler column\n",
    "print(t)\n",
    "type(t)"
   ]
  },
  {
   "cell_type": "code",
   "execution_count": null,
   "id": "2c6dbbb4",
   "metadata": {},
   "outputs": [],
   "source": [
    "D.head(2)"
   ]
  },
  {
   "cell_type": "markdown",
   "id": "def0606c",
   "metadata": {},
   "source": [
    "## to change the data type of the Day column from str to date ."
   ]
  },
  {
   "cell_type": "code",
   "execution_count": null,
   "id": "9f1c62d6",
   "metadata": {},
   "outputs": [],
   "source": [
    "D=pd.read_csv(r\"C:\\Users\\DELL\\OneDrive\\Desktop\\Book2.csv\",parse_dates=['Day'])\n"
   ]
  },
  {
   "cell_type": "code",
   "execution_count": null,
   "id": "15dc58b6",
   "metadata": {},
   "outputs": [],
   "source": [
    "type(D.Day[0] )"
   ]
  },
  {
   "cell_type": "markdown",
   "id": "c37a2ff3",
   "metadata": {},
   "source": [
    "## To change the index as date column"
   ]
  },
  {
   "cell_type": "code",
   "execution_count": null,
   "id": "ec207f66",
   "metadata": {},
   "outputs": [],
   "source": [
    "D.set_index('Day',inplace=True)\n",
    "D"
   ]
  },
  {
   "cell_type": "code",
   "execution_count": null,
   "id": "29dd2baa",
   "metadata": {},
   "outputs": [],
   "source": [
    "new=D.fillna(0) #Fill the NaN values by 0\n",
    "new"
   ]
  },
  {
   "cell_type": "code",
   "execution_count": null,
   "id": "56cf71d8",
   "metadata": {},
   "outputs": [],
   "source": [
    "new.columns"
   ]
  },
  {
   "cell_type": "code",
   "execution_count": null,
   "id": "a12c300e",
   "metadata": {},
   "outputs": [],
   "source": [
    "new_df=D.fillna({\n",
    "    'Temperature':0,\n",
    "    'whindspeed':0,\n",
    "   'event':'Holiday'\n",
    "    \n",
    "})\n",
    "new_df\n"
   ]
  },
  {
   "cell_type": "code",
   "execution_count": null,
   "id": "c2b60656",
   "metadata": {},
   "outputs": [],
   "source": [
    "new_df['Temperature'].mean()"
   ]
  },
  {
   "cell_type": "code",
   "execution_count": null,
   "id": "9d759d9c",
   "metadata": {},
   "outputs": [],
   "source": [
    "new_df[\"whindspeed\"].mean()"
   ]
  },
  {
   "cell_type": "markdown",
   "id": "e6615ee8",
   "metadata": {},
   "source": [
    "# Row wise Carry forward values"
   ]
  },
  {
   "cell_type": "markdown",
   "id": "2ce3bd1f",
   "metadata": {},
   "source": [
    "## # To carry forward previous Row value to the next Row value\n"
   ]
  },
  {
   "cell_type": "code",
   "execution_count": null,
   "id": "20e88621",
   "metadata": {},
   "outputs": [],
   "source": [
    "new_df=D.fillna(method='ffill') #ffill:forward fill\n",
    "new_df"
   ]
  },
  {
   "cell_type": "markdown",
   "id": "dc7b8223",
   "metadata": {},
   "source": [
    "## # To carry next Row value to the previous Row value"
   ]
  },
  {
   "cell_type": "code",
   "execution_count": null,
   "id": "ed3a4e84",
   "metadata": {},
   "outputs": [],
   "source": [
    "import pandas as pd\n",
    "D=pd.read_csv(r\"C:\\Users\\DELL\\OneDrive\\Desktop\\Book2.csv\",parse_dates=['Day'])\n",
    "new_df=D.fillna(method='bfill')\n",
    "new_df"
   ]
  },
  {
   "cell_type": "code",
   "execution_count": null,
   "id": "2c8582a0",
   "metadata": {},
   "outputs": [],
   "source": [
    "new_df['Temperature'].mean()"
   ]
  },
  {
   "cell_type": "markdown",
   "id": "5d720119",
   "metadata": {},
   "source": [
    "# Column wise carry forward Values"
   ]
  },
  {
   "cell_type": "code",
   "execution_count": null,
   "id": "fde07f38",
   "metadata": {},
   "outputs": [],
   "source": [
    "## # To carry next column value to the previous column value"
   ]
  },
  {
   "cell_type": "code",
   "execution_count": null,
   "id": "0b2ef560",
   "metadata": {
    "scrolled": true
   },
   "outputs": [],
   "source": [
    "D=pd.read_csv(r\"C:\\Users\\DELL\\OneDrive\\Desktop\\Book2.csv\",parse_dates=['Day'])\n",
    "D"
   ]
  },
  {
   "cell_type": "code",
   "execution_count": null,
   "id": "10488301",
   "metadata": {},
   "outputs": [],
   "source": [
    "new_df=D.fillna(method='ffill',axis='columns')\n",
    "new_df"
   ]
  },
  {
   "cell_type": "code",
   "execution_count": null,
   "id": "b9c37872",
   "metadata": {
    "scrolled": false
   },
   "outputs": [],
   "source": [
    "new_df=D.fillna(method='ffill',limit=1) #perticular value forward for limit one times\n",
    "\n",
    "new_df"
   ]
  },
  {
   "cell_type": "code",
   "execution_count": null,
   "id": "dc1a3b22",
   "metadata": {},
   "outputs": [],
   "source": [
    "new_df=D.fillna(method='ffill') \n",
    "new_df"
   ]
  },
  {
   "cell_type": "markdown",
   "id": "a3ee7936",
   "metadata": {},
   "source": [
    "# 2)Interpolate to make guess on missing values using interpolation"
   ]
  },
  {
   "cell_type": "markdown",
   "id": "ae0800cb",
   "metadata": {},
   "source": [
    "## To fill Interpolated valued for NaN values use interpolate() function"
   ]
  },
  {
   "cell_type": "code",
   "execution_count": null,
   "id": "69a45fbe",
   "metadata": {},
   "outputs": [],
   "source": [
    "dfr=D.interpolate()\n",
    "dfr"
   ]
  },
  {
   "cell_type": "markdown",
   "id": "636b6cc5",
   "metadata": {},
   "source": [
    "# To skip the rows have NaN values use dropna() function"
   ]
  },
  {
   "cell_type": "code",
   "execution_count": null,
   "id": "e4e6b620",
   "metadata": {},
   "outputs": [],
   "source": [
    "D.dropna()"
   ]
  },
  {
   "cell_type": "markdown",
   "id": "30d3b9a7",
   "metadata": {},
   "source": [
    "# 3)dropna to drop rows with missing values"
   ]
  },
  {
   "cell_type": "markdown",
   "id": "78e6f690",
   "metadata": {},
   "source": [
    "## Drop the rows have all cells are empty"
   ]
  },
  {
   "cell_type": "code",
   "execution_count": null,
   "id": "a6e2d11b",
   "metadata": {},
   "outputs": [],
   "source": [
    "F=pd.read_csv(r\"C:\\Users\\DELL\\OneDrive\\Documents\\CSV.csv\")"
   ]
  },
  {
   "cell_type": "code",
   "execution_count": null,
   "id": "90ad4a21",
   "metadata": {},
   "outputs": [],
   "source": [
    "F"
   ]
  },
  {
   "cell_type": "code",
   "execution_count": null,
   "id": "b6addf7f",
   "metadata": {},
   "outputs": [],
   "source": [
    "F1=F.dropna(how='all') #in the F dataframe row no.11 have all the data is empty so we drop it\n",
    "F1"
   ]
  },
  {
   "cell_type": "code",
   "execution_count": null,
   "id": "05be98c5",
   "metadata": {},
   "outputs": [],
   "source": [
    "D=pd.read_csv(r\"C:\\Users\\DELL\\OneDrive\\Desktop\\Book2.csv\",parse_dates=['Day'])\n",
    "D.set_index('Day',inplace=True)\n",
    "D"
   ]
  },
  {
   "cell_type": "markdown",
   "id": "0d6ce36b",
   "metadata": {},
   "source": [
    "## If At least one valid value (NO NaN value) then dont drop the row"
   ]
  },
  {
   "cell_type": "code",
   "execution_count": null,
   "id": "bce46946",
   "metadata": {},
   "outputs": [],
   "source": [
    "D.dropna(thresh=1)\n",
    "D"
   ]
  },
  {
   "cell_type": "markdown",
   "id": "123de945",
   "metadata": {},
   "source": [
    "##  If At least two valid value (NO NaN value) then dont drop the row"
   ]
  },
  {
   "cell_type": "code",
   "execution_count": null,
   "id": "49c3d32d",
   "metadata": {},
   "outputs": [],
   "source": [
    "ne=D.dropna(thresh=2)\n",
    "ne"
   ]
  },
  {
   "cell_type": "code",
   "execution_count": null,
   "id": "be5c71fb",
   "metadata": {},
   "outputs": [],
   "source": [
    "D.columns"
   ]
  },
  {
   "cell_type": "code",
   "execution_count": null,
   "id": "d6abecd1",
   "metadata": {},
   "outputs": [],
   "source": [
    "D=pd.read_csv(r\"C:\\Users\\DELL\\OneDrive\\Desktop\\Book2.csv\",parse_dates=['Day'])\n",
    "new=D.fillna({'event':'Holiday',\n",
    "          'Temperature':-99999,\n",
    "          'whindspeed':-99999\n",
    "         })\n",
    "\n"
   ]
  },
  {
   "cell_type": "code",
   "execution_count": null,
   "id": "0f499364",
   "metadata": {},
   "outputs": [],
   "source": [
    "new"
   ]
  },
  {
   "cell_type": "code",
   "execution_count": null,
   "id": "744c72d0",
   "metadata": {},
   "outputs": [],
   "source": [
    "import pandas as pd\n",
    "import numpy as np\n",
    "\n"
   ]
  },
  {
   "cell_type": "code",
   "execution_count": null,
   "id": "82a059d2",
   "metadata": {},
   "outputs": [],
   "source": []
  },
  {
   "cell_type": "markdown",
   "id": "ae14e5c6",
   "metadata": {},
   "source": [
    "# Replace Values in the Data Frame."
   ]
  },
  {
   "cell_type": "code",
   "execution_count": null,
   "id": "cc70e306",
   "metadata": {},
   "outputs": [],
   "source": [
    "new2=new.replace(-99999,np.NaN)\n",
    "new2\n"
   ]
  },
  {
   "cell_type": "code",
   "execution_count": null,
   "id": "757206ec",
   "metadata": {},
   "outputs": [],
   "source": [
    "new2=new2.fillna({'event':'Holiday',\n",
    "          'Temperature':-88888,\n",
    "          'whindspeed':-99999\n",
    "         })\n",
    "new2"
   ]
  },
  {
   "cell_type": "code",
   "execution_count": null,
   "id": "163b6841",
   "metadata": {},
   "outputs": [],
   "source": [
    "new=new2.replace([-99999,-88888],np.NaN)\n",
    "new"
   ]
  },
  {
   "cell_type": "markdown",
   "id": "1e633ed0",
   "metadata": {},
   "source": [
    "# Replace Values base on Specific columns"
   ]
  },
  {
   "cell_type": "code",
   "execution_count": null,
   "id": "fcc9c7ff",
   "metadata": {},
   "outputs": [],
   "source": [
    "new=new2.replace({'event':'Holiday',\n",
    "          'Temperature':-88888,\n",
    "          'whindspeed':-99999\n",
    "         },np.NaN)\n",
    "new"
   ]
  },
  {
   "cell_type": "code",
   "execution_count": null,
   "id": "0bbcbd0b",
   "metadata": {},
   "outputs": [],
   "source": [
    "new2=new2.fillna({'event':'Holiday',\n",
    "          'Temperature':-88888,\n",
    "          'whindspeed':-99999\n",
    "         })\n",
    "new2"
   ]
  },
  {
   "cell_type": "markdown",
   "id": "a3faa5ff",
   "metadata": {},
   "source": [
    "# Replace Specific value"
   ]
  },
  {
   "cell_type": "code",
   "execution_count": null,
   "id": "ac632c9c",
   "metadata": {},
   "outputs": [],
   "source": [
    "new=new2.replace({\n",
    "    -88888:np.NaN,\n",
    "    'Holiday':\"Sunny\"\n",
    "    \n",
    "})\n",
    "new"
   ]
  },
  {
   "cell_type": "code",
   "execution_count": null,
   "id": "e7ce98e2",
   "metadata": {},
   "outputs": [],
   "source": [
    "new2=new2.fillna({'event':'Holiday',\n",
    "          'Temperature':-88888,\n",
    "          'whindspeed':-99999\n",
    "         })\n",
    "new2"
   ]
  },
  {
   "cell_type": "markdown",
   "id": "abb76624",
   "metadata": {},
   "source": [
    "# Replace Character/Units from data."
   ]
  },
  {
   "cell_type": "code",
   "execution_count": null,
   "id": "67ab81a8",
   "metadata": {},
   "outputs": [],
   "source": [
    "import pandas as pd\n",
    "f=pd.read_csv(r\"C:\\Users\\DELL\\OneDrive\\Desktop\\Book2.csv\")\n",
    "f"
   ]
  },
  {
   "cell_type": "code",
   "execution_count": null,
   "id": "70babea8",
   "metadata": {},
   "outputs": [],
   "source": [
    "new_df=f.replace('[A-Za-z]','',regex=True) #Replaced the units with empty space : F and mph\n",
    "new_df"
   ]
  },
  {
   "cell_type": "markdown",
   "id": "cb411bc1",
   "metadata": {},
   "source": [
    "### But event column aslo replaced so we dont want to do this we use dictionary."
   ]
  },
  {
   "cell_type": "code",
   "execution_count": null,
   "id": "53492345",
   "metadata": {},
   "outputs": [],
   "source": [
    "f.columns"
   ]
  },
  {
   "cell_type": "code",
   "execution_count": null,
   "id": "eedae155",
   "metadata": {},
   "outputs": [],
   "source": [
    "new_def=f.replace({\n",
    "    'Temperature':'[A-Za-z]',\n",
    "    'whindspeed':'[A-Za-z]',\n",
    "    \n",
    "},'',regex=True)\n",
    "new_def"
   ]
  },
  {
   "cell_type": "code",
   "execution_count": null,
   "id": "7fc93ee5",
   "metadata": {},
   "outputs": [],
   "source": [
    "df=pd.DataFrame({\n",
    "    'score':['exeptional','average','good','poor','average','exeptional'],\n",
    "    'student':['chetan','pradip','nikita','komal','diksha','nishant']\n",
    "    \n",
    "})\n",
    "df"
   ]
  },
  {
   "cell_type": "code",
   "execution_count": null,
   "id": "ebc4e6aa",
   "metadata": {},
   "outputs": [],
   "source": [
    "print(Out[14])"
   ]
  },
  {
   "cell_type": "code",
   "execution_count": null,
   "id": "5fdcf641",
   "metadata": {},
   "outputs": [],
   "source": [
    "new=df.replace(['poor','average','good','exeptional'],[1,2,3,4])\n",
    "new"
   ]
  },
  {
   "cell_type": "code",
   "execution_count": null,
   "id": "4adb49df",
   "metadata": {},
   "outputs": [],
   "source": [
    "import pandas as pd\n",
    "weather=pd.read_csv(r\"weather.csv\")"
   ]
  },
  {
   "cell_type": "code",
   "execution_count": null,
   "id": "29e1b2ec",
   "metadata": {},
   "outputs": [],
   "source": [
    "weather.head()"
   ]
  },
  {
   "cell_type": "code",
   "execution_count": null,
   "id": "5add9c1c",
   "metadata": {},
   "outputs": [],
   "source": [
    "print(weather['Date.Full'][0])\n",
    "type(weather['Date.Full'][0])"
   ]
  },
  {
   "cell_type": "code",
   "execution_count": null,
   "id": "e6598fa3",
   "metadata": {},
   "outputs": [],
   "source": [
    "new=pd.read_csv(r\"weather.csv\",parse_dates=['Date.Full'])\n",
    "new.head()"
   ]
  },
  {
   "cell_type": "code",
   "execution_count": null,
   "id": "e3c8f189",
   "metadata": {},
   "outputs": [],
   "source": [
    "type(new['Date.Full'][0])"
   ]
  },
  {
   "cell_type": "code",
   "execution_count": null,
   "id": "0107bad9",
   "metadata": {},
   "outputs": [],
   "source": [
    "\n",
    "weather.columns"
   ]
  },
  {
   "cell_type": "markdown",
   "id": "584560d3",
   "metadata": {},
   "source": [
    "#### To Take Sample Data from big Weather data(taken few columns)"
   ]
  },
  {
   "cell_type": "code",
   "execution_count": null,
   "id": "6c57d029",
   "metadata": {},
   "outputs": [],
   "source": [
    "f=weather.to_csv(\"Wsample\",columns=['Date.Year','Station.City','Data.Temperature.Max Temp','Data.Temperature.Min Temp','Station.Code'],index=False)\n"
   ]
  },
  {
   "cell_type": "code",
   "execution_count": null,
   "id": "d610fcd7",
   "metadata": {},
   "outputs": [],
   "source": [
    "new1=pd.read_csv(r\"Wsample\")\n",
    "new1.head()"
   ]
  },
  {
   "cell_type": "markdown",
   "id": "d879452d",
   "metadata": {},
   "source": [
    "#### Let change the columns names"
   ]
  },
  {
   "cell_type": "code",
   "execution_count": null,
   "id": "a70283f2",
   "metadata": {},
   "outputs": [],
   "source": [
    "new1=pd.read_csv(r\"Wsample\",names=['Year','City','Temp','windspeed','event'])\n",
    "new1.columns"
   ]
  },
  {
   "cell_type": "code",
   "execution_count": null,
   "id": "e36ba3fb",
   "metadata": {},
   "outputs": [],
   "source": [
    "new1.head()"
   ]
  },
  {
   "cell_type": "markdown",
   "id": "e68a4e39",
   "metadata": {},
   "source": [
    "# Group by Split and Combine"
   ]
  },
  {
   "cell_type": "markdown",
   "id": "082e43b1",
   "metadata": {},
   "source": [
    "## City wise split the data in different Classes."
   ]
  },
  {
   "cell_type": "code",
   "execution_count": null,
   "id": "4f553a15",
   "metadata": {},
   "outputs": [],
   "source": [
    "g=new1.groupby(\"City\")\n",
    "g\n"
   ]
  },
  {
   "cell_type": "code",
   "execution_count": null,
   "id": "353625e1",
   "metadata": {},
   "outputs": [],
   "source": [
    "for City, City_new1 in g:\n",
    "    print(City)\n",
    "    print(City_new1)"
   ]
  },
  {
   "cell_type": "markdown",
   "id": "17638bf4",
   "metadata": {},
   "source": [
    "# To Aceess perticular group "
   ]
  },
  {
   "cell_type": "markdown",
   "id": "41fe79ae",
   "metadata": {},
   "source": [
    "### group might be massive so we are accessing some of the head values."
   ]
  },
  {
   "cell_type": "code",
   "execution_count": null,
   "id": "c87b36e6",
   "metadata": {},
   "outputs": [],
   "source": [
    "g.get_group('Aberdeen').head() "
   ]
  },
  {
   "cell_type": "code",
   "execution_count": null,
   "id": "53f0cf2b",
   "metadata": {},
   "outputs": [],
   "source": [
    "g.get_group('Alpena').head()"
   ]
  },
  {
   "cell_type": "markdown",
   "id": "1fd2ff06",
   "metadata": {},
   "source": [
    "### Q.what is max temperature of each city"
   ]
  },
  {
   "cell_type": "code",
   "execution_count": null,
   "id": "c6aa2ee6",
   "metadata": {},
   "outputs": [],
   "source": [
    "g.min().head()"
   ]
  },
  {
   "cell_type": "code",
   "execution_count": null,
   "id": "9018b8ae",
   "metadata": {},
   "outputs": [],
   "source": [
    "g.describe()"
   ]
  },
  {
   "cell_type": "markdown",
   "id": "4cde1740",
   "metadata": {},
   "source": [
    "\n",
    "# Concatanation of the DataFrames"
   ]
  },
  {
   "cell_type": "code",
   "execution_count": null,
   "id": "930f4f28",
   "metadata": {},
   "outputs": [],
   "source": [
    "import pandas as pd\n",
    "india_weather=pd.DataFrame({\n",
    "    'city':['mumbai','delhi','banglore'],\n",
    "    'temperature':[32,45,33],\n",
    "    'humidity':[80,60,75]\n",
    "})\n",
    "india_weather"
   ]
  },
  {
   "cell_type": "code",
   "execution_count": null,
   "id": "019ee633",
   "metadata": {},
   "outputs": [],
   "source": [
    "us_weather=pd.DataFrame({\n",
    "    'city':['new york','chicago','orlando'],\n",
    "    'temperature':[21,14,35],\n",
    "    'humidity':[68,65,75]\n",
    "})\n",
    "us_weather"
   ]
  },
  {
   "cell_type": "code",
   "execution_count": null,
   "id": "77da513a",
   "metadata": {},
   "outputs": [],
   "source": [
    "df=pd.concat([india_weather,us_weather])\n",
    "df"
   ]
  },
  {
   "cell_type": "markdown",
   "id": "f3fed9ab",
   "metadata": {},
   "source": [
    "#### To sequence index we wont take as it is index from dataframes we ignore it and bydefault jupyter will take index with proper seq"
   ]
  },
  {
   "cell_type": "code",
   "execution_count": null,
   "id": "78da64e9",
   "metadata": {},
   "outputs": [],
   "source": [
    "df=pd.concat([india_weather,us_weather],ignore_index=True)\n",
    "df"
   ]
  },
  {
   "cell_type": "code",
   "execution_count": null,
   "id": "14629fda",
   "metadata": {},
   "outputs": [],
   "source": [
    "df=pd.concat([india_weather,us_weather],keys=['india','us'])\n",
    "df"
   ]
  },
  {
   "cell_type": "code",
   "execution_count": null,
   "id": "19c32761",
   "metadata": {},
   "outputs": [],
   "source": [
    "df.loc['india']"
   ]
  },
  {
   "cell_type": "code",
   "execution_count": null,
   "id": "722c7502",
   "metadata": {},
   "outputs": [],
   "source": [
    "df.loc['us']"
   ]
  },
  {
   "cell_type": "markdown",
   "id": "f61637bc",
   "metadata": {},
   "source": [
    "# Concat columnwise"
   ]
  },
  {
   "cell_type": "code",
   "execution_count": null,
   "id": "30954e12",
   "metadata": {},
   "outputs": [],
   "source": [
    "df=pd.concat([india_weather,us_weather],axis=1)\n",
    "df\n",
    "df.columns"
   ]
  },
  {
   "cell_type": "code",
   "execution_count": null,
   "id": "ae02cc42",
   "metadata": {},
   "outputs": [],
   "source": [
    "s=pd.Series(['Humid','dry','rain'],name='event')\n",
    "s"
   ]
  },
  {
   "cell_type": "code",
   "execution_count": null,
   "id": "686fd19f",
   "metadata": {},
   "outputs": [],
   "source": [
    "df=pd.DataFrame([india_weather,s])\n",
    "df"
   ]
  },
  {
   "cell_type": "code",
   "execution_count": null,
   "id": "241b3333",
   "metadata": {},
   "outputs": [],
   "source": [
    "f=lambda x:x*x\n",
    "import numpy as np"
   ]
  },
  {
   "cell_type": "code",
   "execution_count": null,
   "id": "60fab69d",
   "metadata": {},
   "outputs": [],
   "source": [
    "df['humidity']"
   ]
  },
  {
   "cell_type": "code",
   "execution_count": null,
   "id": "326603f4",
   "metadata": {},
   "outputs": [],
   "source": [
    "import pandas as pd"
   ]
  },
  {
   "cell_type": "code",
   "execution_count": null,
   "id": "862fe6d4",
   "metadata": {},
   "outputs": [],
   "source": [
    "df=pd.read_csv(\"new.csv\")\n",
    "df.head()"
   ]
  },
  {
   "cell_type": "code",
   "execution_count": null,
   "id": "34ae25d6",
   "metadata": {},
   "outputs": [],
   "source": [
    "df1=pd.DataFrame({'Name ':['Kanchan'],'Days':['Sun'],'Number':[100]})"
   ]
  },
  {
   "cell_type": "code",
   "execution_count": null,
   "id": "e60210af",
   "metadata": {},
   "outputs": [],
   "source": [
    "df1"
   ]
  },
  {
   "cell_type": "code",
   "execution_count": null,
   "id": "d72765f8",
   "metadata": {},
   "outputs": [],
   "source": [
    "df.columns"
   ]
  },
  {
   "cell_type": "code",
   "execution_count": null,
   "id": "c988addb",
   "metadata": {},
   "outputs": [],
   "source": [
    "df2=pd.concat([df1,df]).reset_index(drop=True)"
   ]
  },
  {
   "cell_type": "code",
   "execution_count": null,
   "id": "aae2918e",
   "metadata": {},
   "outputs": [],
   "source": [
    "df2.head()"
   ]
  },
  {
   "cell_type": "code",
   "execution_count": null,
   "id": "a1e4e1c6",
   "metadata": {},
   "outputs": [],
   "source": []
  },
  {
   "cell_type": "code",
   "execution_count": null,
   "id": "276c9524",
   "metadata": {},
   "outputs": [],
   "source": [
    "NCR(3,2)"
   ]
  },
  {
   "cell_type": "code",
   "execution_count": null,
   "id": "72bb8830",
   "metadata": {},
   "outputs": [],
   "source": []
  },
  {
   "cell_type": "code",
   "execution_count": null,
   "id": "96958511",
   "metadata": {},
   "outputs": [],
   "source": [
    "def fact(n):\n",
    "    f=1\n",
    "    for i in range(n):\n",
    "        f=f*i"
   ]
  },
  {
   "cell_type": "code",
   "execution_count": null,
   "id": "a8899567",
   "metadata": {},
   "outputs": [],
   "source": []
  },
  {
   "cell_type": "code",
   "execution_count": null,
   "id": "6e3bd2c5",
   "metadata": {},
   "outputs": [],
   "source": []
  }
 ],
 "metadata": {
  "kernelspec": {
   "display_name": "Python 3",
   "language": "python",
   "name": "python3"
  },
  "language_info": {
   "codemirror_mode": {
    "name": "ipython",
    "version": 3
   },
   "file_extension": ".py",
   "mimetype": "text/x-python",
   "name": "python",
   "nbconvert_exporter": "python",
   "pygments_lexer": "ipython3",
   "version": "3.8.8"
  }
 },
 "nbformat": 4,
 "nbformat_minor": 5
}
